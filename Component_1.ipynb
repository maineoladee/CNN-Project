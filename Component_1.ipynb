{
 "cells": [
  {
   "cell_type": "markdown",
   "metadata": {
    "id": "5y05UDvD5_AL"
   },
   "source": [
    "# Component 1 — Water quality analysis"
   ]
  },
  {
   "cell_type": "markdown",
   "metadata": {
    "id": "i4RMD_ZP0UVL"
   },
   "source": [
    "### Importing Libraries"
   ]
  },
  {
   "cell_type": "code",
   "execution_count": null,
   "metadata": {
    "id": "6XkwpTRk0IOe"
   },
   "outputs": [],
   "source": [
    "import keras\n",
    "import imblearn\n",
    "import numpy as np\n",
    "import pandas as pd\n",
    "import seaborn as sns\n",
    "from tensorflow import keras\n",
    "from collections import Counter\n",
    "import matplotlib.pyplot as plt\n",
    "from keras.utils import np_utils\n",
    "from sklearn.svm import LinearSVC\n",
    "from keras.models import Sequential\n",
    "from tensorflow.keras import layers\n",
    "from imblearn.base import BaseSampler\n",
    "from keras.layers import Dense, Dropout\n",
    "from sklearn.preprocessing import StandardScaler\n",
    "from tensorflow.keras.optimizers import schedules\n",
    "from sklearn.model_selection import train_test_split\n",
    "from imblearn.over_sampling import SMOTE, RandomOverSampler "
   ]
  },
  {
   "cell_type": "markdown",
   "metadata": {
    "id": "JZ0qGtrD5_AV"
   },
   "source": [
    "## Data Preprocessing\n",
    "\n",
    "#### Data Cleaning"
   ]
  },
  {
   "cell_type": "code",
   "execution_count": 40,
   "metadata": {
    "colab": {
     "base_uri": "https://localhost:8080/",
     "height": 513
    },
    "id": "9uWJX8rd0fTU",
    "outputId": "55170058-9eee-4d09-a4b4-6db93012b81c"
   },
   "outputs": [
    {
     "data": {
      "text/html": [
       "<div>\n",
       "<style scoped>\n",
       "    .dataframe tbody tr th:only-of-type {\n",
       "        vertical-align: middle;\n",
       "    }\n",
       "\n",
       "    .dataframe tbody tr th {\n",
       "        vertical-align: top;\n",
       "    }\n",
       "\n",
       "    .dataframe thead th {\n",
       "        text-align: right;\n",
       "    }\n",
       "</style>\n",
       "<table border=\"1\" class=\"dataframe\">\n",
       "  <thead>\n",
       "    <tr style=\"text-align: right;\">\n",
       "      <th></th>\n",
       "      <th>Phytoplankton Monitoring Programme results</th>\n",
       "      <th>Unnamed: 1</th>\n",
       "      <th>Unnamed: 2</th>\n",
       "      <th>Unnamed: 3</th>\n",
       "      <th>Unnamed: 4</th>\n",
       "      <th>Unnamed: 5</th>\n",
       "      <th>Unnamed: 6</th>\n",
       "      <th>Unnamed: 7</th>\n",
       "      <th>Unnamed: 8</th>\n",
       "      <th>Unnamed: 9</th>\n",
       "      <th>Unnamed: 10</th>\n",
       "      <th>Unnamed: 11</th>\n",
       "      <th>Unnamed: 12</th>\n",
       "      <th>Unnamed: 13</th>\n",
       "    </tr>\n",
       "  </thead>\n",
       "  <tbody>\n",
       "    <tr>\n",
       "      <th>0</th>\n",
       "      <td>Sample number</td>\n",
       "      <td>Production area</td>\n",
       "      <td>Bed ID</td>\n",
       "      <td>Local authority</td>\n",
       "      <td>Grid reference\\n\\nNote 1</td>\n",
       "      <td>Sampling point</td>\n",
       "      <td>Date sample collected</td>\n",
       "      <td>Alexandrium spp. \\ncells L-1\\n(PSP)</td>\n",
       "      <td>Dinophysiaceae \\ncells L-1\\n(DSP)</td>\n",
       "      <td>Prorocentrum lima \\ncells L-1\\n(DSP)</td>\n",
       "      <td>Pseudo-nitzschia spp. \\ncells L-1\\n(ASP)</td>\n",
       "      <td>Ligulodinium polyedrum \\ncells L-1\\n(Yessotoxin)</td>\n",
       "      <td>Protoceratium reticulatum \\ncells L-1\\n(Yessot...</td>\n",
       "      <td>Prorocentrum cordatum \\ncells L-1\\n(Venerupin)</td>\n",
       "    </tr>\n",
       "    <tr>\n",
       "      <th>1</th>\n",
       "      <td>Jan-21</td>\n",
       "      <td>Solent</td>\n",
       "      <td>B24BK</td>\n",
       "      <td>Southampton PHA</td>\n",
       "      <td>SZ57479794</td>\n",
       "      <td>Browndown</td>\n",
       "      <td>04/01/2021</td>\n",
       "      <td>ND</td>\n",
       "      <td>ND</td>\n",
       "      <td>ND</td>\n",
       "      <td>ND</td>\n",
       "      <td>ND</td>\n",
       "      <td>ND</td>\n",
       "      <td>ND</td>\n",
       "    </tr>\n",
       "    <tr>\n",
       "      <th>2</th>\n",
       "      <td>Feb-21</td>\n",
       "      <td>Southampton Water</td>\n",
       "      <td>B21AT</td>\n",
       "      <td>Southampton PHA</td>\n",
       "      <td>SU48760530</td>\n",
       "      <td>Hamble Estuary</td>\n",
       "      <td>04/01/2021</td>\n",
       "      <td>ND</td>\n",
       "      <td>ND</td>\n",
       "      <td>ND</td>\n",
       "      <td>ND</td>\n",
       "      <td>ND</td>\n",
       "      <td>ND</td>\n",
       "      <td>ND</td>\n",
       "    </tr>\n",
       "    <tr>\n",
       "      <th>3</th>\n",
       "      <td>Mar-21</td>\n",
       "      <td>Brancaster</td>\n",
       "      <td>B05AS</td>\n",
       "      <td>Kings Lynn &amp; W Norfolk BC</td>\n",
       "      <td>TF79884539</td>\n",
       "      <td>Norton Creek Mussels</td>\n",
       "      <td>05/01/2021</td>\n",
       "      <td>ND</td>\n",
       "      <td>ND</td>\n",
       "      <td>ND</td>\n",
       "      <td>400</td>\n",
       "      <td>ND</td>\n",
       "      <td>ND</td>\n",
       "      <td>ND</td>\n",
       "    </tr>\n",
       "    <tr>\n",
       "      <th>4</th>\n",
       "      <td>Apr-21</td>\n",
       "      <td>Porlock</td>\n",
       "      <td>B094D</td>\n",
       "      <td>Somerset West and Taunton Council</td>\n",
       "      <td>SS87114787</td>\n",
       "      <td>Porlock East</td>\n",
       "      <td>05/01/2021</td>\n",
       "      <td>ND</td>\n",
       "      <td>ND</td>\n",
       "      <td>ND</td>\n",
       "      <td>ND</td>\n",
       "      <td>ND</td>\n",
       "      <td>ND</td>\n",
       "      <td>ND</td>\n",
       "    </tr>\n",
       "  </tbody>\n",
       "</table>\n",
       "</div>"
      ],
      "text/plain": [
       "  Phytoplankton Monitoring Programme results         Unnamed: 1 Unnamed: 2  \\\n",
       "0                              Sample number    Production area     Bed ID   \n",
       "1                                     Jan-21             Solent      B24BK   \n",
       "2                                     Feb-21  Southampton Water      B21AT   \n",
       "3                                     Mar-21         Brancaster      B05AS   \n",
       "4                                     Apr-21            Porlock      B094D   \n",
       "\n",
       "                          Unnamed: 3                             Unnamed: 4  \\\n",
       "0                    Local authority  Grid reference\\n\\nNote 1                \n",
       "1                    Southampton PHA                             SZ57479794   \n",
       "2                    Southampton PHA                             SU48760530   \n",
       "3          Kings Lynn & W Norfolk BC                             TF79884539   \n",
       "4  Somerset West and Taunton Council                             SS87114787   \n",
       "\n",
       "             Unnamed: 5             Unnamed: 6  \\\n",
       "0        Sampling point  Date sample collected   \n",
       "1             Browndown             04/01/2021   \n",
       "2        Hamble Estuary             04/01/2021   \n",
       "3  Norton Creek Mussels             05/01/2021   \n",
       "4          Porlock East             05/01/2021   \n",
       "\n",
       "                            Unnamed: 7                         Unnamed: 8  \\\n",
       "0  Alexandrium spp. \\ncells L-1\\n(PSP)  Dinophysiaceae \\ncells L-1\\n(DSP)   \n",
       "1                                   ND                                 ND   \n",
       "2                                   ND                                 ND   \n",
       "3                                   ND                                 ND   \n",
       "4                                   ND                                 ND   \n",
       "\n",
       "                             Unnamed: 9  \\\n",
       "0  Prorocentrum lima \\ncells L-1\\n(DSP)   \n",
       "1                                    ND   \n",
       "2                                    ND   \n",
       "3                                    ND   \n",
       "4                                    ND   \n",
       "\n",
       "                                 Unnamed: 10  \\\n",
       "0  Pseudo-nitzschia spp. \\ncells L-1\\n(ASP)    \n",
       "1                                         ND   \n",
       "2                                         ND   \n",
       "3                                        400   \n",
       "4                                         ND   \n",
       "\n",
       "                                        Unnamed: 11  \\\n",
       "0  Ligulodinium polyedrum \\ncells L-1\\n(Yessotoxin)   \n",
       "1                                                ND   \n",
       "2                                                ND   \n",
       "3                                                ND   \n",
       "4                                                ND   \n",
       "\n",
       "                                         Unnamed: 12  \\\n",
       "0  Protoceratium reticulatum \\ncells L-1\\n(Yessot...   \n",
       "1                                                 ND   \n",
       "2                                                 ND   \n",
       "3                                                 ND   \n",
       "4                                                 ND   \n",
       "\n",
       "                                       Unnamed: 13  \n",
       "0  Prorocentrum cordatum \\ncells L-1\\n(Venerupin)   \n",
       "1                                               ND  \n",
       "2                                               ND  \n",
       "3                                               ND  \n",
       "4                                               ND  "
      ]
     },
     "execution_count": 40,
     "metadata": {},
     "output_type": "execute_result"
    }
   ],
   "source": [
    "df = pd.read_csv(\"Phytoplankton.csv\")\n",
    "df.head()"
   ]
  },
  {
   "cell_type": "markdown",
   "metadata": {
    "id": "4D47jpp45_AY"
   },
   "source": [
    "### Reshaping the data"
   ]
  },
  {
   "cell_type": "code",
   "execution_count": 41,
   "metadata": {
    "id": "_nVa5vcb1gqM"
   },
   "outputs": [],
   "source": [
    "new_header = df.iloc[0] \n",
    "df = df[1:] \n",
    "df.columns = new_header\n",
    "df = df[:828]"
   ]
  },
  {
   "cell_type": "code",
   "execution_count": 42,
   "metadata": {
    "colab": {
     "base_uri": "https://localhost:8080/",
     "height": 496
    },
    "id": "eSQ4RsHz3TSa",
    "outputId": "f7676891-340f-4f10-8776-8624f321df0f"
   },
   "outputs": [
    {
     "data": {
      "text/html": [
       "<div>\n",
       "<style scoped>\n",
       "    .dataframe tbody tr th:only-of-type {\n",
       "        vertical-align: middle;\n",
       "    }\n",
       "\n",
       "    .dataframe tbody tr th {\n",
       "        vertical-align: top;\n",
       "    }\n",
       "\n",
       "    .dataframe thead th {\n",
       "        text-align: right;\n",
       "    }\n",
       "</style>\n",
       "<table border=\"1\" class=\"dataframe\">\n",
       "  <thead>\n",
       "    <tr style=\"text-align: right;\">\n",
       "      <th></th>\n",
       "      <th>Sample number</th>\n",
       "      <th>Production area</th>\n",
       "      <th>Bed ID</th>\n",
       "      <th>Local authority</th>\n",
       "      <th>Grid reference\\n\\nNote 1</th>\n",
       "      <th>Sampling point</th>\n",
       "      <th>Date sample collected</th>\n",
       "      <th>Alexandrium spp. \\ncells L-1\\n(PSP)</th>\n",
       "      <th>Dinophysiaceae \\ncells L-1\\n(DSP)</th>\n",
       "      <th>Prorocentrum lima \\ncells L-1\\n(DSP)</th>\n",
       "      <th>Pseudo-nitzschia spp. \\ncells L-1\\n(ASP)</th>\n",
       "      <th>Ligulodinium polyedrum \\ncells L-1\\n(Yessotoxin)</th>\n",
       "      <th>Protoceratium reticulatum \\ncells L-1\\n(Yessotoxin)</th>\n",
       "      <th>Prorocentrum cordatum \\ncells L-1\\n(Venerupin)</th>\n",
       "    </tr>\n",
       "  </thead>\n",
       "  <tbody>\n",
       "    <tr>\n",
       "      <th>1</th>\n",
       "      <td>Jan-21</td>\n",
       "      <td>Solent</td>\n",
       "      <td>B24BK</td>\n",
       "      <td>Southampton PHA</td>\n",
       "      <td>SZ57479794</td>\n",
       "      <td>Browndown</td>\n",
       "      <td>04/01/2021</td>\n",
       "      <td>ND</td>\n",
       "      <td>ND</td>\n",
       "      <td>ND</td>\n",
       "      <td>ND</td>\n",
       "      <td>ND</td>\n",
       "      <td>ND</td>\n",
       "      <td>ND</td>\n",
       "    </tr>\n",
       "    <tr>\n",
       "      <th>2</th>\n",
       "      <td>Feb-21</td>\n",
       "      <td>Southampton Water</td>\n",
       "      <td>B21AT</td>\n",
       "      <td>Southampton PHA</td>\n",
       "      <td>SU48760530</td>\n",
       "      <td>Hamble Estuary</td>\n",
       "      <td>04/01/2021</td>\n",
       "      <td>ND</td>\n",
       "      <td>ND</td>\n",
       "      <td>ND</td>\n",
       "      <td>ND</td>\n",
       "      <td>ND</td>\n",
       "      <td>ND</td>\n",
       "      <td>ND</td>\n",
       "    </tr>\n",
       "    <tr>\n",
       "      <th>3</th>\n",
       "      <td>Mar-21</td>\n",
       "      <td>Brancaster</td>\n",
       "      <td>B05AS</td>\n",
       "      <td>Kings Lynn &amp; W Norfolk BC</td>\n",
       "      <td>TF79884539</td>\n",
       "      <td>Norton Creek Mussels</td>\n",
       "      <td>05/01/2021</td>\n",
       "      <td>ND</td>\n",
       "      <td>ND</td>\n",
       "      <td>ND</td>\n",
       "      <td>400</td>\n",
       "      <td>ND</td>\n",
       "      <td>ND</td>\n",
       "      <td>ND</td>\n",
       "    </tr>\n",
       "    <tr>\n",
       "      <th>4</th>\n",
       "      <td>Apr-21</td>\n",
       "      <td>Porlock</td>\n",
       "      <td>B094D</td>\n",
       "      <td>Somerset West and Taunton Council</td>\n",
       "      <td>SS87114787</td>\n",
       "      <td>Porlock East</td>\n",
       "      <td>05/01/2021</td>\n",
       "      <td>ND</td>\n",
       "      <td>ND</td>\n",
       "      <td>ND</td>\n",
       "      <td>ND</td>\n",
       "      <td>ND</td>\n",
       "      <td>ND</td>\n",
       "      <td>ND</td>\n",
       "    </tr>\n",
       "    <tr>\n",
       "      <th>5</th>\n",
       "      <td>May-21</td>\n",
       "      <td>Blackwater</td>\n",
       "      <td>B14AD</td>\n",
       "      <td>Maldon DC</td>\n",
       "      <td>TM04060768</td>\n",
       "      <td>St Peters Flats</td>\n",
       "      <td>06/01/2021</td>\n",
       "      <td>ND</td>\n",
       "      <td>ND</td>\n",
       "      <td>ND</td>\n",
       "      <td>ND</td>\n",
       "      <td>ND</td>\n",
       "      <td>ND</td>\n",
       "      <td>ND</td>\n",
       "    </tr>\n",
       "  </tbody>\n",
       "</table>\n",
       "</div>"
      ],
      "text/plain": [
       "0 Sample number    Production area Bed ID                    Local authority  \\\n",
       "1        Jan-21             Solent  B24BK                    Southampton PHA   \n",
       "2        Feb-21  Southampton Water  B21AT                    Southampton PHA   \n",
       "3        Mar-21         Brancaster  B05AS          Kings Lynn & W Norfolk BC   \n",
       "4        Apr-21            Porlock  B094D  Somerset West and Taunton Council   \n",
       "5        May-21         Blackwater  B14AD                          Maldon DC   \n",
       "\n",
       "0 Grid reference\\n\\nNote 1                     Sampling point  \\\n",
       "1                            SZ57479794             Browndown   \n",
       "2                            SU48760530        Hamble Estuary   \n",
       "3                            TF79884539  Norton Creek Mussels   \n",
       "4                            SS87114787          Porlock East   \n",
       "5                            TM04060768       St Peters Flats   \n",
       "\n",
       "0 Date sample collected Alexandrium spp. \\ncells L-1\\n(PSP)  \\\n",
       "1            04/01/2021                                  ND   \n",
       "2            04/01/2021                                  ND   \n",
       "3            05/01/2021                                  ND   \n",
       "4            05/01/2021                                  ND   \n",
       "5            06/01/2021                                  ND   \n",
       "\n",
       "0 Dinophysiaceae \\ncells L-1\\n(DSP) Prorocentrum lima \\ncells L-1\\n(DSP)  \\\n",
       "1                                ND                                   ND   \n",
       "2                                ND                                   ND   \n",
       "3                                ND                                   ND   \n",
       "4                                ND                                   ND   \n",
       "5                                ND                                   ND   \n",
       "\n",
       "0 Pseudo-nitzschia spp. \\ncells L-1\\n(ASP)   \\\n",
       "1                                        ND   \n",
       "2                                        ND   \n",
       "3                                       400   \n",
       "4                                        ND   \n",
       "5                                        ND   \n",
       "\n",
       "0 Ligulodinium polyedrum \\ncells L-1\\n(Yessotoxin)  \\\n",
       "1                                               ND   \n",
       "2                                               ND   \n",
       "3                                               ND   \n",
       "4                                               ND   \n",
       "5                                               ND   \n",
       "\n",
       "0 Protoceratium reticulatum \\ncells L-1\\n(Yessotoxin)   \\\n",
       "1                                                 ND     \n",
       "2                                                 ND     \n",
       "3                                                 ND     \n",
       "4                                                 ND     \n",
       "5                                                 ND     \n",
       "\n",
       "0 Prorocentrum cordatum \\ncells L-1\\n(Venerupin)   \n",
       "1                                              ND  \n",
       "2                                              ND  \n",
       "3                                              ND  \n",
       "4                                              ND  \n",
       "5                                              ND  "
      ]
     },
     "execution_count": 42,
     "metadata": {},
     "output_type": "execute_result"
    }
   ],
   "source": [
    "df.head()"
   ]
  },
  {
   "cell_type": "code",
   "execution_count": 43,
   "metadata": {
    "colab": {
     "base_uri": "https://localhost:8080/"
    },
    "id": "vdwRfSE98F14",
    "outputId": "c8a4d8a9-bd03-489e-eafb-6701be6dc471"
   },
   "outputs": [
    {
     "data": {
      "text/plain": [
       "0\n",
       "Sample number                                           0\n",
       "Production area                                         1\n",
       "Bed ID                                                  1\n",
       "Local authority                                         0\n",
       "Grid reference\\n\\nNote 1                                1\n",
       "Sampling point                                          0\n",
       "Date sample collected                                   0\n",
       "Alexandrium spp. \\ncells L-1\\n(PSP)                     0\n",
       "Dinophysiaceae \\ncells L-1\\n(DSP)                       1\n",
       "Prorocentrum lima \\ncells L-1\\n(DSP)                    1\n",
       "Pseudo-nitzschia spp. \\ncells L-1\\n(ASP)                1\n",
       "Ligulodinium polyedrum \\ncells L-1\\n(Yessotoxin)        1\n",
       "Protoceratium reticulatum \\ncells L-1\\n(Yessotoxin)     0\n",
       "Prorocentrum cordatum \\ncells L-1\\n(Venerupin)          0\n",
       "dtype: int64"
      ]
     },
     "execution_count": 43,
     "metadata": {},
     "output_type": "execute_result"
    }
   ],
   "source": [
    "df.isnull().sum()"
   ]
  },
  {
   "cell_type": "code",
   "execution_count": 44,
   "metadata": {
    "id": "zuu6iuYm5_Ac"
   },
   "outputs": [],
   "source": [
    "df[\"Alexandrium spp. \\ncells L-1\\n(PSP)\"] = df[\"Alexandrium spp. \\ncells L-1\\n(PSP)\"].replace(\"ND\", 0)\n",
    "df[\"Pseudo-nitzschia spp. \\ncells L-1\\n(ASP) \"] = df[\"Pseudo-nitzschia spp. \\ncells L-1\\n(ASP) \"].replace(\"ND\", 0)\n",
    "df[\"Dinophysiaceae \\ncells L-1\\n(DSP)\"] = df[\"Dinophysiaceae \\ncells L-1\\n(DSP)\"].replace(\"ND\", 0)\n",
    "df[\"Prorocentrum lima \\ncells L-1\\n(DSP)\"] = df[\"Prorocentrum lima \\ncells L-1\\n(DSP)\"].replace(\"ND\", 0)"
   ]
  },
  {
   "cell_type": "markdown",
   "metadata": {
    "id": "BDZDe8ck5_Ad"
   },
   "source": [
    "### Inspecting all unique values from targeted columns"
   ]
  },
  {
   "cell_type": "code",
   "execution_count": 45,
   "metadata": {
    "colab": {
     "base_uri": "https://localhost:8080/"
    },
    "id": "fvthYjZ55_Ae",
    "outputId": "6d97975d-684c-46c4-c4af-048ec9e222e8"
   },
   "outputs": [
    {
     "data": {
      "text/plain": [
       "array([0, 'Unable to analyse, too much sediment', '200', '40', '100',\n",
       "       '120', '80', '320', '400', '500', 'NOT TESTED, SUBMITTED IN ERROR',\n",
       "       '160', '240'], dtype=object)"
      ]
     },
     "execution_count": 45,
     "metadata": {},
     "output_type": "execute_result"
    }
   ],
   "source": [
    "df[\"Alexandrium spp. \\ncells L-1\\n(PSP)\"].unique()"
   ]
  },
  {
   "cell_type": "code",
   "execution_count": 46,
   "metadata": {
    "colab": {
     "base_uri": "https://localhost:8080/"
    },
    "id": "n7ysOPL75_Af",
    "outputId": "92820ed1-cc24-4bd1-f633-a053125b9334"
   },
   "outputs": [
    {
     "data": {
      "text/plain": [
       "array([0, '400', 'Unable to analyse, too much sediment', '200', '800',\n",
       "       '600', '80', '1000', '160', '320', '560', '3600', '1160', '2400',\n",
       "       '2700', '12720', '1400', '240', '640', '880', '960', '3200',\n",
       "       '1080', '840', '3800', '2360', '4600', '8760', '3480', '120',\n",
       "       '1920', '1760', '280', '1960', '5600', '4280', '3960', '8100',\n",
       "       '10300', '3000', '1480', '720', '2080', '8600', '185500', '60900',\n",
       "       '1800', '6280', '2900', '1900', '2000', '1840', '2280', '7080',\n",
       "       '13080', '17400', '13720', '11300', '8300', '2100', '360', '1200',\n",
       "       '4800', '1120', '66400', '152900', '71400', '13520', '42120',\n",
       "       '38520', '1640', '1300', '6440', '3280', '13680', '252000',\n",
       "       '18400', '1600', '8000', '1360', '5800', '760', '7560', '27800',\n",
       "       '289400', '68760', '15280', '23000', '34600', '60000', '43000',\n",
       "       '6640', '8800', '16600', '17120', '6320', '48400', '1100',\n",
       "       '162000', '24600', '4200', '8920', '16320', '1680', '520', '220',\n",
       "       '2840', '1240', '3080', '15100', '52700', '4700', '11560', '45440',\n",
       "       '3520', '52200', '19240', '11000', '13600', '19360', '40', '2720',\n",
       "       '7200', '1560', '24900', '58600', '753000', '6880', '2200',\n",
       "       '118000', '5480', '480', '7120', '9360', '12760', '11320', '6480',\n",
       "       '109000', '9000', '12000', '13400', '7680', '300', '5200', '37080',\n",
       "       '7800', '6720', '7720', '5900', '1440', '2640', '4520', '680',\n",
       "       '1040', '5120', '2160', '177000', '410000', '6240', '10800',\n",
       "       '42200', '700', '13440', '7000', '9800', nan, '3120', '11160',\n",
       "       '9400', '2500', '6000', '12640', '500', '12280', '2600', '3300',\n",
       "       '5040', '920', '16480', '15200', '188000', '43520', '39680',\n",
       "       '17960', '3840', '30760', '6600', '5400', '6200', '11600', '25800',\n",
       "       '5720', '440', '2800', '1500', '2520', '2560', '12500', '3880',\n",
       "       '12320', '19900', '39400', '2680', '20880', '4400', '13200',\n",
       "       '4360'], dtype=object)"
      ]
     },
     "execution_count": 46,
     "metadata": {},
     "output_type": "execute_result"
    }
   ],
   "source": [
    "df[\"Pseudo-nitzschia spp. \\ncells L-1\\n(ASP) \"].unique()"
   ]
  },
  {
   "cell_type": "code",
   "execution_count": 47,
   "metadata": {
    "colab": {
     "base_uri": "https://localhost:8080/"
    },
    "id": "OxiEmURa5_Af",
    "outputId": "95e82605-f681-4308-f79b-a849059ad10a"
   },
   "outputs": [
    {
     "data": {
      "text/plain": [
       "array([0, 'Unable to analyse, too much sediment', '40', '80', '160',\n",
       "       '520', '240', '320', '200', '280', '400', '120', '800', '1360',\n",
       "       '720', '640', '680', nan, '1880', '100', '2960', '1400', '480',\n",
       "       '1320', '1000', '760'], dtype=object)"
      ]
     },
     "execution_count": 47,
     "metadata": {},
     "output_type": "execute_result"
    }
   ],
   "source": [
    "df[\"Dinophysiaceae \\ncells L-1\\n(DSP)\"].unique()"
   ]
  },
  {
   "cell_type": "code",
   "execution_count": 48,
   "metadata": {
    "colab": {
     "base_uri": "https://localhost:8080/"
    },
    "id": "hYuzvJ9i5_Ag",
    "outputId": "6bb208fe-1ac8-4c42-d5ef-2be09d5d9a1b"
   },
   "outputs": [
    {
     "data": {
      "text/plain": [
       "array([0, 'Unable to analyse, too much sediment', '100', '40', '200',\n",
       "       '120', nan, '400', '18520', '17480'], dtype=object)"
      ]
     },
     "execution_count": 48,
     "metadata": {},
     "output_type": "execute_result"
    }
   ],
   "source": [
    "df[\"Prorocentrum lima \\ncells L-1\\n(DSP)\"].unique()"
   ]
  },
  {
   "cell_type": "markdown",
   "metadata": {
    "id": "4btu3w_lA-VY",
    "outputId": "f1c4202e-e0ad-40a6-96f4-54a6e3fb7bb4"
   },
   "source": [
    "### Replacing all NaN values with -1"
   ]
  },
  {
   "cell_type": "code",
   "execution_count": 49,
   "metadata": {
    "id": "r1QVC2mm5_Ag"
   },
   "outputs": [],
   "source": [
    "df.loc[(df[\"Alexandrium spp. \\ncells L-1\\n(PSP)\"].isna())] = -1\n",
    "df.loc[(df[\"Pseudo-nitzschia spp. \\ncells L-1\\n(ASP) \"].isna())] = -1\n",
    "df.loc[(df[\"Dinophysiaceae \\ncells L-1\\n(DSP)\"].isna())] = -1\n",
    "df.loc[(df[\"Prorocentrum lima \\ncells L-1\\n(DSP)\"].isna())] = -1"
   ]
  },
  {
   "cell_type": "markdown",
   "metadata": {
    "id": "h3ZnxmTy5_Ai"
   },
   "source": [
    "### Replacing unique strings in columns"
   ]
  },
  {
   "cell_type": "code",
   "execution_count": 50,
   "metadata": {
    "id": "zyx6GrF-5_Ai"
   },
   "outputs": [],
   "source": [
    "df[\"Alexandrium spp. \\ncells L-1\\n(PSP)\"].replace(['Unable to analyse, too much sediment', 'NOT TESTED, SUBMITTED IN ERROR'], 0, inplace=True)\n",
    "df[\"Pseudo-nitzschia spp. \\ncells L-1\\n(ASP) \"].replace(['Unable to analyse, too much sediment'], 0, inplace=True)\n",
    "df[\"Dinophysiaceae \\ncells L-1\\n(DSP)\"].replace(['Unable to analyse, too much sediment'], 0, inplace=True)\n",
    "df[\"Prorocentrum lima \\ncells L-1\\n(DSP)\"].replace(['Unable to analyse, too much sediment'], 0, inplace=True)"
   ]
  },
  {
   "cell_type": "code",
   "execution_count": 51,
   "metadata": {
    "colab": {
     "base_uri": "https://localhost:8080/",
     "height": 268
    },
    "id": "5i238ZIZhsjL",
    "outputId": "6054c484-0a6d-471e-ca1d-ad77fafd285d"
   },
   "outputs": [
    {
     "data": {
      "text/html": [
       "<div>\n",
       "<style scoped>\n",
       "    .dataframe tbody tr th:only-of-type {\n",
       "        vertical-align: middle;\n",
       "    }\n",
       "\n",
       "    .dataframe tbody tr th {\n",
       "        vertical-align: top;\n",
       "    }\n",
       "\n",
       "    .dataframe thead th {\n",
       "        text-align: right;\n",
       "    }\n",
       "</style>\n",
       "<table border=\"1\" class=\"dataframe\">\n",
       "  <thead>\n",
       "    <tr style=\"text-align: right;\">\n",
       "      <th></th>\n",
       "      <th>Sample number</th>\n",
       "      <th>Alexandrium spp. \\ncells L-1\\n(PSP)</th>\n",
       "      <th>Pseudo-nitzschia spp. \\ncells L-1\\n(ASP)</th>\n",
       "      <th>Dinophysiaceae \\ncells L-1\\n(DSP)</th>\n",
       "      <th>Prorocentrum lima \\ncells L-1\\n(DSP)</th>\n",
       "    </tr>\n",
       "  </thead>\n",
       "  <tbody>\n",
       "    <tr>\n",
       "      <th>1</th>\n",
       "      <td>Jan-21</td>\n",
       "      <td>0</td>\n",
       "      <td>0</td>\n",
       "      <td>0</td>\n",
       "      <td>0</td>\n",
       "    </tr>\n",
       "    <tr>\n",
       "      <th>2</th>\n",
       "      <td>Feb-21</td>\n",
       "      <td>0</td>\n",
       "      <td>0</td>\n",
       "      <td>0</td>\n",
       "      <td>0</td>\n",
       "    </tr>\n",
       "    <tr>\n",
       "      <th>3</th>\n",
       "      <td>Mar-21</td>\n",
       "      <td>0</td>\n",
       "      <td>400</td>\n",
       "      <td>0</td>\n",
       "      <td>0</td>\n",
       "    </tr>\n",
       "    <tr>\n",
       "      <th>4</th>\n",
       "      <td>Apr-21</td>\n",
       "      <td>0</td>\n",
       "      <td>0</td>\n",
       "      <td>0</td>\n",
       "      <td>0</td>\n",
       "    </tr>\n",
       "    <tr>\n",
       "      <th>5</th>\n",
       "      <td>May-21</td>\n",
       "      <td>0</td>\n",
       "      <td>0</td>\n",
       "      <td>0</td>\n",
       "      <td>0</td>\n",
       "    </tr>\n",
       "  </tbody>\n",
       "</table>\n",
       "</div>"
      ],
      "text/plain": [
       "0 Sample number Alexandrium spp. \\ncells L-1\\n(PSP)  \\\n",
       "1        Jan-21                                   0   \n",
       "2        Feb-21                                   0   \n",
       "3        Mar-21                                   0   \n",
       "4        Apr-21                                   0   \n",
       "5        May-21                                   0   \n",
       "\n",
       "0 Pseudo-nitzschia spp. \\ncells L-1\\n(ASP)  Dinophysiaceae \\ncells L-1\\n(DSP)  \\\n",
       "1                                         0                                 0   \n",
       "2                                         0                                 0   \n",
       "3                                       400                                 0   \n",
       "4                                         0                                 0   \n",
       "5                                         0                                 0   \n",
       "\n",
       "0 Prorocentrum lima \\ncells L-1\\n(DSP)  \n",
       "1                                    0  \n",
       "2                                    0  \n",
       "3                                    0  \n",
       "4                                    0  \n",
       "5                                    0  "
      ]
     },
     "execution_count": 51,
     "metadata": {},
     "output_type": "execute_result"
    }
   ],
   "source": [
    "df[[\"Sample number\", \"Alexandrium spp. \\ncells L-1\\n(PSP)\", \"Pseudo-nitzschia spp. \\ncells L-1\\n(ASP) \", \n",
    "   \"Dinophysiaceae \\ncells L-1\\n(DSP)\", \"Prorocentrum lima \\ncells L-1\\n(DSP)\" ]].head()"
   ]
  },
  {
   "cell_type": "code",
   "execution_count": 52,
   "metadata": {
    "id": "QCh7zJB3iJYV"
   },
   "outputs": [],
   "source": [
    "dataset = df[[\"Alexandrium spp. \\ncells L-1\\n(PSP)\", \"Pseudo-nitzschia spp. \\ncells L-1\\n(ASP) \", \n",
    "   \"Dinophysiaceae \\ncells L-1\\n(DSP)\", \"Prorocentrum lima \\ncells L-1\\n(DSP)\" ]]\n",
    "\n",
    "\n",
    "dataset = dataset.astype(int)\n",
    "\n",
    "\n",
    "dataset.insert(loc=0, column='Sample number', value=df['Sample number'])"
   ]
  },
  {
   "cell_type": "code",
   "execution_count": 53,
   "metadata": {
    "colab": {
     "base_uri": "https://localhost:8080/"
    },
    "id": "FTiFhjpTtzmy",
    "outputId": "5f1b3ba1-8666-4a06-886d-5682ff3360e8"
   },
   "outputs": [
    {
     "data": {
      "text/plain": [
       "1      Jan-21\n",
       "2      Feb-21\n",
       "3      Mar-21\n",
       "4      Apr-21\n",
       "5      May-21\n",
       "        ...  \n",
       "824    853/21\n",
       "825    854/21\n",
       "826    855/21\n",
       "827    856/21\n",
       "828    857/21\n",
       "Name: Sample number, Length: 828, dtype: object"
      ]
     },
     "execution_count": 53,
     "metadata": {},
     "output_type": "execute_result"
    }
   ],
   "source": [
    "df['Sample number']"
   ]
  },
  {
   "cell_type": "markdown",
   "metadata": {
    "id": "udYmUVIm5_Ak"
   },
   "source": [
    "#### Creating a threshold for the Phytoplanktons"
   ]
  },
  {
   "cell_type": "code",
   "execution_count": 55,
   "metadata": {
    "id": "YalMpXnp9XbG"
   },
   "outputs": [],
   "source": [
    "thresholds = {\"Alexandrium spp. \\ncells L-1\\n(PSP)\" : 40, \n",
    "              \"Dinophysiaceae \\ncells L-1\\n(DSP)\" : 100, \n",
    "              \"Prorocentrum lima \\ncells L-1\\n(DSP)\" : 100, \n",
    "              \"Pseudo-nitzschia spp. \\ncells L-1\\n(ASP) \" : 150000}"
   ]
  },
  {
   "cell_type": "code",
   "execution_count": 56,
   "metadata": {
    "id": "AUkbsCfyCqch"
   },
   "outputs": [],
   "source": [
    "def check_thresholds(dataset):\n",
    "    t = []\n",
    "    for i,j in enumerate(dataset[\"Sample number\"]):\n",
    "        alexandrium = dataset.iloc[i][\"Alexandrium spp. \\ncells L-1\\n(PSP)\"]\n",
    "        pseudo_nitzschia = dataset.iloc[i][\"Pseudo-nitzschia spp. \\ncells L-1\\n(ASP) \"]\n",
    "        dinophysiaceae = dataset.iloc[i][\"Dinophysiaceae \\ncells L-1\\n(DSP)\"]\n",
    "        prorocentrum = dataset.iloc[i][\"Prorocentrum lima \\ncells L-1\\n(DSP)\"]\n",
    "        \n",
    "        threshold_reached = 0 #initialize threshold to zero\n",
    "        if pseudo_nitzschia >= thresholds[\"Pseudo-nitzschia spp. \\ncells L-1\\n(ASP) \"]:\n",
    "            threshold_reached = 1\n",
    "        elif dinophysiaceae >= thresholds[\"Dinophysiaceae \\ncells L-1\\n(DSP)\"]:\n",
    "            threshold_reached = 1\n",
    "        elif prorocentrum >= thresholds[\"Prorocentrum lima \\ncells L-1\\n(DSP)\"]:\n",
    "            threshold_reached = 1\n",
    "        elif alexandrium >= thresholds[\"Alexandrium spp. \\ncells L-1\\n(PSP)\"]:\n",
    "            threshold_reached = 1\n",
    "        t.append(threshold_reached)\n",
    "    return t "
   ]
  },
  {
   "cell_type": "markdown",
   "metadata": {
    "id": "05F-IbMd5_Am"
   },
   "source": [
    "#### Adding Threshold Column"
   ]
  },
  {
   "cell_type": "code",
   "execution_count": 57,
   "metadata": {
    "id": "wGoWhvNzH9G4"
   },
   "outputs": [],
   "source": [
    "thresholds_reached = check_thresholds(dataset)\n",
    "dataset['thresholds_reached'] = thresholds_reached"
   ]
  },
  {
   "cell_type": "code",
   "execution_count": 58,
   "metadata": {
    "colab": {
     "base_uri": "https://localhost:8080/"
    },
    "id": "fsyMg5uqvc0x",
    "outputId": "332b9f2f-a029-4ecc-8921-ab4a323ffa18"
   },
   "outputs": [
    {
     "name": "stdout",
     "output_type": "stream",
     "text": [
      "95\n",
      "733\n"
     ]
    }
   ],
   "source": [
    "print(len(dataset[dataset['thresholds_reached']==1]))\n",
    "print(len(dataset[dataset['thresholds_reached']==0]))"
   ]
  },
  {
   "cell_type": "markdown",
   "metadata": {
    "id": "NT-1obeqD0t0"
   },
   "source": [
    "#### Plot Before Oversampling"
   ]
  },
  {
   "cell_type": "code",
   "execution_count": 61,
   "metadata": {
    "colab": {
     "base_uri": "https://localhost:8080/",
     "height": 301
    },
    "id": "jOvUAQyfy5Kf",
    "outputId": "f7f2aa4c-5e6b-43a0-a8e7-b6dbc39c9dac"
   },
   "outputs": [
    {
     "data": {
      "text/plain": [
       "<AxesSubplot:xlabel='thresholds_reached', ylabel='Density'>"
      ]
     },
     "execution_count": 61,
     "metadata": {},
     "output_type": "execute_result"
    },
    {
     "data": {
      "image/png": "[encoded data removed]",
      "text/plain": [
       "<Figure size 432x288 with 1 Axes>"
      ]
     },
     "metadata": {},
     "output_type": "display_data"
    }
   ],
   "source": [
    "sns.kdeplot(data=dataset, x=\"thresholds_reached\")"
   ]
  },
  {
   "cell_type": "markdown",
   "metadata": {
    "id": "UxeozTZsOmbr"
   },
   "source": [
    "#### Saving the new data into csv in the working directory"
   ]
  },
  {
   "cell_type": "code",
   "execution_count": 63,
   "metadata": {
    "id": "G24uapxN5_Am"
   },
   "outputs": [],
   "source": [
    "pd.DataFrame.to_csv(dataset, 'thresholds_cleaned.csv', sep=',', index=False)"
   ]
  },
  {
   "cell_type": "code",
   "execution_count": 64,
   "metadata": {
    "colab": {
     "base_uri": "https://localhost:8080/",
     "height": 502
    },
    "id": "ZJ_AtRC80wb4",
    "outputId": "10b294f2-37ba-4cc3-bdd2-fddf14be10ec"
   },
   "outputs": [
    {
     "data": {
      "text/html": [
       "<div>\n",
       "<style scoped>\n",
       "    .dataframe tbody tr th:only-of-type {\n",
       "        vertical-align: middle;\n",
       "    }\n",
       "\n",
       "    .dataframe tbody tr th {\n",
       "        vertical-align: top;\n",
       "    }\n",
       "\n",
       "    .dataframe thead th {\n",
       "        text-align: right;\n",
       "    }\n",
       "</style>\n",
       "<table border=\"1\" class=\"dataframe\">\n",
       "  <thead>\n",
       "    <tr style=\"text-align: right;\">\n",
       "      <th></th>\n",
       "      <th>Sample number</th>\n",
       "      <th>Alexandrium spp. \\ncells L-1\\n(PSP)</th>\n",
       "      <th>Pseudo-nitzschia spp. \\ncells L-1\\n(ASP)</th>\n",
       "      <th>Dinophysiaceae \\ncells L-1\\n(DSP)</th>\n",
       "      <th>Prorocentrum lima \\ncells L-1\\n(DSP)</th>\n",
       "      <th>thresholds_reached</th>\n",
       "    </tr>\n",
       "  </thead>\n",
       "  <tbody>\n",
       "    <tr>\n",
       "      <th>1</th>\n",
       "      <td>Jan-21</td>\n",
       "      <td>0</td>\n",
       "      <td>0</td>\n",
       "      <td>0</td>\n",
       "      <td>0</td>\n",
       "      <td>0</td>\n",
       "    </tr>\n",
       "    <tr>\n",
       "      <th>2</th>\n",
       "      <td>Feb-21</td>\n",
       "      <td>0</td>\n",
       "      <td>0</td>\n",
       "      <td>0</td>\n",
       "      <td>0</td>\n",
       "      <td>0</td>\n",
       "    </tr>\n",
       "    <tr>\n",
       "      <th>3</th>\n",
       "      <td>Mar-21</td>\n",
       "      <td>0</td>\n",
       "      <td>400</td>\n",
       "      <td>0</td>\n",
       "      <td>0</td>\n",
       "      <td>0</td>\n",
       "    </tr>\n",
       "    <tr>\n",
       "      <th>4</th>\n",
       "      <td>Apr-21</td>\n",
       "      <td>0</td>\n",
       "      <td>0</td>\n",
       "      <td>0</td>\n",
       "      <td>0</td>\n",
       "      <td>0</td>\n",
       "    </tr>\n",
       "    <tr>\n",
       "      <th>5</th>\n",
       "      <td>May-21</td>\n",
       "      <td>0</td>\n",
       "      <td>0</td>\n",
       "      <td>0</td>\n",
       "      <td>0</td>\n",
       "      <td>0</td>\n",
       "    </tr>\n",
       "    <tr>\n",
       "      <th>...</th>\n",
       "      <td>...</td>\n",
       "      <td>...</td>\n",
       "      <td>...</td>\n",
       "      <td>...</td>\n",
       "      <td>...</td>\n",
       "      <td>...</td>\n",
       "    </tr>\n",
       "    <tr>\n",
       "      <th>824</th>\n",
       "      <td>853/21</td>\n",
       "      <td>0</td>\n",
       "      <td>7080</td>\n",
       "      <td>40</td>\n",
       "      <td>0</td>\n",
       "      <td>0</td>\n",
       "    </tr>\n",
       "    <tr>\n",
       "      <th>825</th>\n",
       "      <td>854/21</td>\n",
       "      <td>0</td>\n",
       "      <td>0</td>\n",
       "      <td>0</td>\n",
       "      <td>0</td>\n",
       "      <td>0</td>\n",
       "    </tr>\n",
       "    <tr>\n",
       "      <th>826</th>\n",
       "      <td>855/21</td>\n",
       "      <td>0</td>\n",
       "      <td>0</td>\n",
       "      <td>40</td>\n",
       "      <td>0</td>\n",
       "      <td>0</td>\n",
       "    </tr>\n",
       "    <tr>\n",
       "      <th>827</th>\n",
       "      <td>856/21</td>\n",
       "      <td>0</td>\n",
       "      <td>0</td>\n",
       "      <td>0</td>\n",
       "      <td>0</td>\n",
       "      <td>0</td>\n",
       "    </tr>\n",
       "    <tr>\n",
       "      <th>828</th>\n",
       "      <td>857/21</td>\n",
       "      <td>0</td>\n",
       "      <td>0</td>\n",
       "      <td>0</td>\n",
       "      <td>0</td>\n",
       "      <td>0</td>\n",
       "    </tr>\n",
       "  </tbody>\n",
       "</table>\n",
       "<p>828 rows × 6 columns</p>\n",
       "</div>"
      ],
      "text/plain": [
       "0   Sample number  Alexandrium spp. \\ncells L-1\\n(PSP)  \\\n",
       "1          Jan-21                                    0   \n",
       "2          Feb-21                                    0   \n",
       "3          Mar-21                                    0   \n",
       "4          Apr-21                                    0   \n",
       "5          May-21                                    0   \n",
       "..            ...                                  ...   \n",
       "824        853/21                                    0   \n",
       "825        854/21                                    0   \n",
       "826        855/21                                    0   \n",
       "827        856/21                                    0   \n",
       "828        857/21                                    0   \n",
       "\n",
       "0    Pseudo-nitzschia spp. \\ncells L-1\\n(ASP)   \\\n",
       "1                                            0   \n",
       "2                                            0   \n",
       "3                                          400   \n",
       "4                                            0   \n",
       "5                                            0   \n",
       "..                                         ...   \n",
       "824                                       7080   \n",
       "825                                          0   \n",
       "826                                          0   \n",
       "827                                          0   \n",
       "828                                          0   \n",
       "\n",
       "0    Dinophysiaceae \\ncells L-1\\n(DSP)  Prorocentrum lima \\ncells L-1\\n(DSP)  \\\n",
       "1                                    0                                     0   \n",
       "2                                    0                                     0   \n",
       "3                                    0                                     0   \n",
       "4                                    0                                     0   \n",
       "5                                    0                                     0   \n",
       "..                                 ...                                   ...   \n",
       "824                                 40                                     0   \n",
       "825                                  0                                     0   \n",
       "826                                 40                                     0   \n",
       "827                                  0                                     0   \n",
       "828                                  0                                     0   \n",
       "\n",
       "0    thresholds_reached  \n",
       "1                     0  \n",
       "2                     0  \n",
       "3                     0  \n",
       "4                     0  \n",
       "5                     0  \n",
       "..                  ...  \n",
       "824                   0  \n",
       "825                   0  \n",
       "826                   0  \n",
       "827                   0  \n",
       "828                   0  \n",
       "\n",
       "[828 rows x 6 columns]"
      ]
     },
     "execution_count": 64,
     "metadata": {},
     "output_type": "execute_result"
    }
   ],
   "source": [
    "dataset"
   ]
  },
  {
   "cell_type": "markdown",
   "metadata": {
    "id": "bn8WpE4w5_An"
   },
   "source": [
    "#### Splitting the data into numpy arrays x and y"
   ]
  },
  {
   "cell_type": "code",
   "execution_count": 65,
   "metadata": {
    "id": "jr37wlcXkdUm"
   },
   "outputs": [],
   "source": [
    "X = dataset.iloc[0:829, 1:5]\n",
    "y = dataset.iloc[:, -1] # threshold reached"
   ]
  },
  {
   "cell_type": "code",
   "execution_count": 66,
   "metadata": {
    "colab": {
     "base_uri": "https://localhost:8080/"
    },
    "id": "IU5d6ZF85_An",
    "outputId": "4d191701-535e-45af-e62b-ce9469622e1f"
   },
   "outputs": [
    {
     "data": {
      "text/plain": [
       "(828, 4)"
      ]
     },
     "execution_count": 66,
     "metadata": {},
     "output_type": "execute_result"
    }
   ],
   "source": [
    "X.shape"
   ]
  },
  {
   "cell_type": "code",
   "execution_count": 67,
   "metadata": {
    "colab": {
     "base_uri": "https://localhost:8080/",
     "height": 485
    },
    "id": "53tOAKgh5_An",
    "outputId": "dbf2a442-0125-493a-aa83-28060be58671"
   },
   "outputs": [
    {
     "data": {
      "text/html": [
       "<div>\n",
       "<style scoped>\n",
       "    .dataframe tbody tr th:only-of-type {\n",
       "        vertical-align: middle;\n",
       "    }\n",
       "\n",
       "    .dataframe tbody tr th {\n",
       "        vertical-align: top;\n",
       "    }\n",
       "\n",
       "    .dataframe thead th {\n",
       "        text-align: right;\n",
       "    }\n",
       "</style>\n",
       "<table border=\"1\" class=\"dataframe\">\n",
       "  <thead>\n",
       "    <tr style=\"text-align: right;\">\n",
       "      <th></th>\n",
       "      <th>Alexandrium spp. \\ncells L-1\\n(PSP)</th>\n",
       "      <th>Pseudo-nitzschia spp. \\ncells L-1\\n(ASP)</th>\n",
       "      <th>Dinophysiaceae \\ncells L-1\\n(DSP)</th>\n",
       "      <th>Prorocentrum lima \\ncells L-1\\n(DSP)</th>\n",
       "    </tr>\n",
       "  </thead>\n",
       "  <tbody>\n",
       "    <tr>\n",
       "      <th>1</th>\n",
       "      <td>0</td>\n",
       "      <td>0</td>\n",
       "      <td>0</td>\n",
       "      <td>0</td>\n",
       "    </tr>\n",
       "    <tr>\n",
       "      <th>2</th>\n",
       "      <td>0</td>\n",
       "      <td>0</td>\n",
       "      <td>0</td>\n",
       "      <td>0</td>\n",
       "    </tr>\n",
       "    <tr>\n",
       "      <th>3</th>\n",
       "      <td>0</td>\n",
       "      <td>400</td>\n",
       "      <td>0</td>\n",
       "      <td>0</td>\n",
       "    </tr>\n",
       "    <tr>\n",
       "      <th>4</th>\n",
       "      <td>0</td>\n",
       "      <td>0</td>\n",
       "      <td>0</td>\n",
       "      <td>0</td>\n",
       "    </tr>\n",
       "    <tr>\n",
       "      <th>5</th>\n",
       "      <td>0</td>\n",
       "      <td>0</td>\n",
       "      <td>0</td>\n",
       "      <td>0</td>\n",
       "    </tr>\n",
       "    <tr>\n",
       "      <th>...</th>\n",
       "      <td>...</td>\n",
       "      <td>...</td>\n",
       "      <td>...</td>\n",
       "      <td>...</td>\n",
       "    </tr>\n",
       "    <tr>\n",
       "      <th>824</th>\n",
       "      <td>0</td>\n",
       "      <td>7080</td>\n",
       "      <td>40</td>\n",
       "      <td>0</td>\n",
       "    </tr>\n",
       "    <tr>\n",
       "      <th>825</th>\n",
       "      <td>0</td>\n",
       "      <td>0</td>\n",
       "      <td>0</td>\n",
       "      <td>0</td>\n",
       "    </tr>\n",
       "    <tr>\n",
       "      <th>826</th>\n",
       "      <td>0</td>\n",
       "      <td>0</td>\n",
       "      <td>40</td>\n",
       "      <td>0</td>\n",
       "    </tr>\n",
       "    <tr>\n",
       "      <th>827</th>\n",
       "      <td>0</td>\n",
       "      <td>0</td>\n",
       "      <td>0</td>\n",
       "      <td>0</td>\n",
       "    </tr>\n",
       "    <tr>\n",
       "      <th>828</th>\n",
       "      <td>0</td>\n",
       "      <td>0</td>\n",
       "      <td>0</td>\n",
       "      <td>0</td>\n",
       "    </tr>\n",
       "  </tbody>\n",
       "</table>\n",
       "<p>828 rows × 4 columns</p>\n",
       "</div>"
      ],
      "text/plain": [
       "0    Alexandrium spp. \\ncells L-1\\n(PSP)  \\\n",
       "1                                      0   \n",
       "2                                      0   \n",
       "3                                      0   \n",
       "4                                      0   \n",
       "5                                      0   \n",
       "..                                   ...   \n",
       "824                                    0   \n",
       "825                                    0   \n",
       "826                                    0   \n",
       "827                                    0   \n",
       "828                                    0   \n",
       "\n",
       "0    Pseudo-nitzschia spp. \\ncells L-1\\n(ASP)   \\\n",
       "1                                            0   \n",
       "2                                            0   \n",
       "3                                          400   \n",
       "4                                            0   \n",
       "5                                            0   \n",
       "..                                         ...   \n",
       "824                                       7080   \n",
       "825                                          0   \n",
       "826                                          0   \n",
       "827                                          0   \n",
       "828                                          0   \n",
       "\n",
       "0    Dinophysiaceae \\ncells L-1\\n(DSP)  Prorocentrum lima \\ncells L-1\\n(DSP)  \n",
       "1                                    0                                     0  \n",
       "2                                    0                                     0  \n",
       "3                                    0                                     0  \n",
       "4                                    0                                     0  \n",
       "5                                    0                                     0  \n",
       "..                                 ...                                   ...  \n",
       "824                                 40                                     0  \n",
       "825                                  0                                     0  \n",
       "826                                 40                                     0  \n",
       "827                                  0                                     0  \n",
       "828                                  0                                     0  \n",
       "\n",
       "[828 rows x 4 columns]"
      ]
     },
     "execution_count": 67,
     "metadata": {},
     "output_type": "execute_result"
    }
   ],
   "source": [
    "X"
   ]
  },
  {
   "cell_type": "code",
   "execution_count": 68,
   "metadata": {
    "colab": {
     "base_uri": "https://localhost:8080/"
    },
    "id": "f__d4yaI5_Ao",
    "outputId": "40885951-7524-4265-e9e7-f61ec78c7be9"
   },
   "outputs": [
    {
     "data": {
      "text/plain": [
       "1      0\n",
       "2      0\n",
       "3      0\n",
       "4      0\n",
       "5      0\n",
       "      ..\n",
       "824    0\n",
       "825    0\n",
       "826    0\n",
       "827    0\n",
       "828    0\n",
       "Name: thresholds_reached, Length: 828, dtype: int64"
      ]
     },
     "execution_count": 68,
     "metadata": {},
     "output_type": "execute_result"
    }
   ],
   "source": [
    "y # Threshold reached"
   ]
  },
  {
   "cell_type": "markdown",
   "metadata": {
    "id": "tJHQbBbU9Eeb"
   },
   "source": [
    "#### Splitting the dataset into the Training set and Test set"
   ]
  },
  {
   "cell_type": "code",
   "execution_count": 69,
   "metadata": {
    "id": "jZcgkxH46Z9S"
   },
   "outputs": [],
   "source": [
    "x_train, x_test, y_train, y_test = train_test_split(X, y, test_size=0.20, random_state=42)"
   ]
  },
  {
   "cell_type": "markdown",
   "metadata": {
    "id": "O8oC-FWE5dNg"
   },
   "source": [
    "#### Oversampling and balancing"
   ]
  },
  {
   "cell_type": "code",
   "execution_count": 70,
   "metadata": {
    "id": "FQMEq58Z30Nr"
   },
   "outputs": [],
   "source": [
    "sm = SMOTE(random_state = 2) \n",
    "x_train, y_train = sm.fit_resample(X, y.ravel())"
   ]
  },
  {
   "cell_type": "code",
   "execution_count": 71,
   "metadata": {
    "colab": {
     "base_uri": "https://localhost:8080/"
    },
    "id": "zonEsQds5VEG",
    "outputId": "5b10b5fc-d6df-4898-9e3e-c993120f264b"
   },
   "outputs": [
    {
     "name": "stdout",
     "output_type": "stream",
     "text": [
      "After OverSampling, the shape of train_X: (1466, 4)\n",
      "After OverSampling, the shape of train_y: (1466,) \n",
      "\n"
     ]
    }
   ],
   "source": [
    "print('After OverSampling, the shape of train_X: {}'.format(x_train.shape)) \n",
    "print('After OverSampling, the shape of train_y: {} \\n'.format(y_train.shape)) "
   ]
  },
  {
   "cell_type": "code",
   "execution_count": 72,
   "metadata": {
    "colab": {
     "base_uri": "https://localhost:8080/"
    },
    "id": "bwB6KxvP_zSh",
    "outputId": "12c4c826-49d6-4534-8964-38a2217de827"
   },
   "outputs": [
    {
     "name": "stdout",
     "output_type": "stream",
     "text": [
      "label '1' count after oversampling: 733\n",
      "label '0' count after oversampling: 733\n"
     ]
    }
   ],
   "source": [
    "print(\"label '1' count after oversampling: {}\".format(sum(y_train == 1))) \n",
    "print(\"label '0' count after oversampling: {}\".format(sum(y_train == 0))) "
   ]
  },
  {
   "cell_type": "code",
   "execution_count": 73,
   "metadata": {
    "id": "P3X9gcmTOgqs"
   },
   "outputs": [],
   "source": [
    "new_dataset = x_train\n",
    "new_dataset['threshold_reached'] = y_train"
   ]
  },
  {
   "cell_type": "code",
   "execution_count": 74,
   "metadata": {
    "colab": {
     "base_uri": "https://localhost:8080/"
    },
    "id": "ayDTbr-WPpWr",
    "outputId": "4b2b5f0e-880e-45e7-a49b-e634bc3aa9c9"
   },
   "outputs": [
    {
     "name": "stdout",
     "output_type": "stream",
     "text": [
      "733\n",
      "733\n"
     ]
    }
   ],
   "source": [
    "print(len(new_dataset[new_dataset['threshold_reached']==1]))\n",
    "print(len(new_dataset[new_dataset['threshold_reached']==0]))"
   ]
  },
  {
   "cell_type": "code",
   "execution_count": 75,
   "metadata": {
    "colab": {
     "base_uri": "https://localhost:8080/",
     "height": 301
    },
    "id": "vqHaYn5lDQtS",
    "outputId": "1a4d1c3e-0247-44d5-f338-ab7a70f3bf00"
   },
   "outputs": [
    {
     "data": {
      "text/plain": [
       "<AxesSubplot:xlabel='threshold_reached', ylabel='Density'>"
      ]
     },
     "execution_count": 75,
     "metadata": {},
     "output_type": "execute_result"
    },
    {
     "data": {
      "image/png": "[encoded data removed]",
      "text/plain": [
       "<Figure size 432x288 with 1 Axes>"
      ]
     },
     "metadata": {},
     "output_type": "display_data"
    }
   ],
   "source": [
    "sns.kdeplot(data=new_dataset, x=\"threshold_reached\")"
   ]
  },
  {
   "cell_type": "code",
   "execution_count": 76,
   "metadata": {
    "id": "3fsRRTAhgGEv"
   },
   "outputs": [],
   "source": [
    "del x_train['threshold_reached']"
   ]
  },
  {
   "cell_type": "markdown",
   "metadata": {
    "id": "ivuBFArIbk0c"
   },
   "source": [
    "#### Feature Scaling\n",
    "\n",
    "Use feature scaling to level the data"
   ]
  },
  {
   "cell_type": "code",
   "execution_count": 77,
   "metadata": {
    "id": "73c7y6a3bjhS"
   },
   "outputs": [],
   "source": [
    "sc = StandardScaler()\n",
    "X_train = sc.fit_transform(x_train)\n",
    "X_test = sc.transform(x_test)"
   ]
  },
  {
   "cell_type": "code",
   "execution_count": 78,
   "metadata": {
    "colab": {
     "base_uri": "https://localhost:8080/"
    },
    "id": "LbkWFZ16lH2x",
    "outputId": "abba499e-62cd-498a-8758-a8c33807060b"
   },
   "outputs": [
    {
     "data": {
      "text/plain": [
       "array([[-0.4013779 , -0.27433262, -0.41004003, -0.09733433],\n",
       "       [-0.4013779 , -0.27433262, -0.41004003, -0.09733433],\n",
       "       [-0.4013779 , -0.26805563, -0.41004003, -0.09733433],\n",
       "       ...,\n",
       "       [-0.4013779 , -0.27433262,  0.93654736, -0.09733433],\n",
       "       [-0.4013779 , -0.27433262,  0.27875148, -0.09733433],\n",
       "       [ 0.38792826,  2.57154539, -0.41004003, -0.09733433]])"
      ]
     },
     "execution_count": 78,
     "metadata": {},
     "output_type": "execute_result"
    }
   ],
   "source": [
    "X_train"
   ]
  },
  {
   "cell_type": "code",
   "execution_count": 79,
   "metadata": {
    "colab": {
     "base_uri": "https://localhost:8080/"
    },
    "id": "QJPCdSaulWAQ",
    "outputId": "8b4e9fe7-5416-4e4e-a36d-2354c0ec983c"
   },
   "outputs": [
    {
     "data": {
      "text/plain": [
       "array([[-0.4013779 , -0.17578385, -0.41004003, -0.09733433],\n",
       "       [-0.4013779 , -0.27433262, -0.41004003, -0.09733433],\n",
       "       [-0.4013779 , -0.27433262, -0.41004003, -0.09733433],\n",
       "       [-0.4013779 , -0.27307722, -0.27228172, -0.09733433],\n",
       "       [-0.4013779 , -0.27433262, -0.41004003, -0.09733433],\n",
       "       [-0.4013779 , -0.26680023, -0.41004003, -0.09733433],\n",
       "       [-0.4013779 , -0.26303403, -0.41004003, -0.09733433],\n",
       "       [-0.4013779 , -0.27433262, -0.41004003, -0.09733433],\n",
       "       [-0.4013779 , -0.23855377, -0.13452342, -0.09733433],\n",
       "       [-0.4013779 , -0.27182182, -0.41004003, -0.09733433],\n",
       "       [-0.4013779 , -0.27433262, -0.41004003, -0.09733433],\n",
       "       [-0.4013779 , -0.27433262, -0.41004003, -0.09733433],\n",
       "       [-0.4013779 , -0.27433262, -0.41004003, -0.09733433],\n",
       "       [-0.4013779 , -0.27244952, -0.41004003, -0.09733433],\n",
       "       [-0.4013779 , -0.27433262, -0.41004003, -0.09733433],\n",
       "       [-0.4013779 ,  0.54481475, -0.41004003, -0.09733433],\n",
       "       [-0.4013779 , -0.27433262, -0.41004003, -0.09733433],\n",
       "       [-0.4013779 , -0.24545846, -0.41004003, -0.09733433],\n",
       "       [-0.4013779 , -0.27433262, -0.41004003, -0.09733433],\n",
       "       [-0.4013779 , -0.12054633, -0.41004003, -0.09733433],\n",
       "       [-0.4013779 , -0.26868333, -0.41004003, -0.09733433],\n",
       "       [-0.4013779 , -0.27433262, -0.41004003, -0.09733433],\n",
       "       [-0.4013779 , -0.27433262, -0.13452342, -0.09733433],\n",
       "       [-0.4013779 , -0.25110775, -0.41004003, -0.09733433],\n",
       "       [-0.4013779 , -0.24169226, -0.41004003, -0.09733433],\n",
       "       [ 0.21768575, -0.24545846,  4.2737422 , -0.09733433],\n",
       "       [-0.4013779 , -0.27433262, -0.41004003, -0.09733433],\n",
       "       [-0.4013779 , -0.27433262,  0.27875148, -0.09733433],\n",
       "       [-0.4013779 , -0.27433262, -0.41004003, -0.09733433],\n",
       "       [-0.4013779 ,  0.66721608, -0.41004003, -0.09733433],\n",
       "       [-0.4013779 ,  0.02759066, -0.27228172, -0.09733433],\n",
       "       [ 0.21768575, -0.13435571, -0.41004003, -0.06572191],\n",
       "       [-0.4013779 , -0.27307722, -0.41004003, -0.09733433],\n",
       "       [-0.4013779 , -0.22599979, -0.41004003, -0.09733433],\n",
       "       [-0.4013779 , -0.26177864, -0.41004003, -0.09733433],\n",
       "       [-0.4168545 , -0.27434831, -0.41348398, -0.09812464],\n",
       "       [-0.4013779 , -0.27433262, -0.41004003, -0.09733433],\n",
       "       [-0.4013779 , -0.27433262, -0.41004003, -0.09733433],\n",
       "       [-0.4013779 , -0.27433262, -0.41004003, -0.09733433],\n",
       "       [-0.4013779 , -0.27433262, -0.41004003, -0.01830329],\n",
       "       [-0.4013779 , -0.06342571, -0.41004003, -0.09733433],\n",
       "       [-0.4013779 ,  0.0379477 , -0.41004003, -0.09733433],\n",
       "       [-0.4013779 , -0.27433262, -0.41004003, -0.09733433],\n",
       "       [-0.4013779 , -0.25236315, -0.41004003, -0.09733433],\n",
       "       [-0.4013779 , -0.08602288, -0.41004003, -0.09733433],\n",
       "       [-0.4013779 , -0.27433262, -0.41004003, -0.09733433],\n",
       "       [-0.4013779 , -0.2134458 , -0.27228172, -0.09733433],\n",
       "       [-0.4013779 , -0.27433262,  0.55426808, -0.09733433],\n",
       "       [-0.4013779 , -0.27433262, -0.41004003, -0.09733433],\n",
       "       [-0.4013779 , -0.27182182, -0.41004003, -0.09733433],\n",
       "       [-0.4013779 , -0.09229987, -0.41004003, -0.09733433],\n",
       "       [-0.4013779 , -0.27182182, -0.27228172, -0.09733433],\n",
       "       [-0.4013779 , -0.27433262, -0.41004003, -0.09733433],\n",
       "       [-0.4013779 , -0.27433262, -0.41004003, -0.09733433],\n",
       "       [-0.4013779 , -0.26334788, -0.41004003, -0.09733433],\n",
       "       [-0.4013779 , -0.27433262, -0.27228172, -0.09733433],\n",
       "       [-0.4013779 , -0.27433262, -0.41004003, -0.09733433],\n",
       "       [-0.4013779 , -0.27433262, -0.41004003, -0.09733433],\n",
       "       [-0.4013779 , -0.27433262, -0.41004003, -0.09733433],\n",
       "       [-0.4013779 , -0.27433262, -0.41004003, -0.09733433],\n",
       "       [-0.4013779 , -0.27433262, -0.41004003, -0.09733433],\n",
       "       [-0.4013779 , -0.26177864, -0.41004003, -0.09733433],\n",
       "       [-0.4013779 , -0.26931103, -0.41004003, -0.09733433],\n",
       "       [-0.4013779 , -0.27433262, -0.41004003, -0.09733433],\n",
       "       [-0.4013779 , -0.27433262,  4.4115005 , -0.09733433],\n",
       "       [-0.4013779 , -0.23729837, -0.41004003, -0.09733433],\n",
       "       [-0.4013779 , -0.27433262, -0.41004003, -0.09733433],\n",
       "       [-0.4013779 , -0.09292757, -0.13452342, -0.09733433],\n",
       "       [-0.4013779 , -0.27433262, -0.41004003, -0.09733433],\n",
       "       [-0.4013779 , -0.27433262, -0.41004003, -0.09733433],\n",
       "       [-0.4013779 , -0.24608616, -0.41004003, -0.09733433],\n",
       "       [-0.4013779 , -0.26491713, -0.41004003, -0.09733433],\n",
       "       [-0.4013779 , -0.26115094, -0.41004003, -0.09733433],\n",
       "       [-0.4013779 ,  0.68133931, -0.41004003, -0.09733433],\n",
       "       [-0.4013779 , -0.27433262, -0.41004003, -0.09733433],\n",
       "       [-0.4013779 , -0.26805563, -0.41004003, -0.09733433],\n",
       "       [-0.4013779 , -0.26428943, -0.41004003, -0.09733433],\n",
       "       [-0.4013779 , -0.16322987, -0.27228172, -0.09733433],\n",
       "       [-0.4013779 , -0.27433262, -0.41004003, -0.09733433],\n",
       "       [-0.4013779 , -0.27433262, -0.41004003, -0.09733433],\n",
       "       [-0.4013779 , -0.27433262, -0.41004003, -0.09733433],\n",
       "       [-0.4013779 , -0.27433262, -0.41004003, -0.09733433],\n",
       "       [-0.4013779 , -0.25989554, -0.41004003, -0.09733433],\n",
       "       [-0.4013779 , -0.13686651, -0.41004003, -0.09733433],\n",
       "       [-0.4013779 , -0.27307722, -0.41004003, -0.09733433],\n",
       "       [ 0.21768575, -0.27433262, -0.41004003, -0.09733433],\n",
       "       [-0.4013779 , -0.20214722, -0.41004003, -0.09733433],\n",
       "       [-0.4013779 , -0.26177864, -0.41004003, -0.09733433],\n",
       "       [-0.4013779 , -0.27433262, -0.41004003, -0.09733433],\n",
       "       [-0.4013779 , -0.27433262, -0.41004003, -0.09733433],\n",
       "       [-0.4013779 , -0.24608616, -0.41004003, -0.09733433],\n",
       "       [ 0.21768575, -0.24859695, -0.41004003, -0.09733433],\n",
       "       [ 0.21768575, -0.25487395, -0.41004003, -0.09733433],\n",
       "       [-0.4013779 , -0.27433262, -0.13452342, -0.09733433],\n",
       "       [-0.4013779 , -0.26805563, -0.41004003, -0.09733433],\n",
       "       [-0.4013779 , -0.26680023, -0.41004003, -0.09733433],\n",
       "       [-0.4013779 , -0.20842421, -0.41004003, -0.09733433],\n",
       "       [ 2.69394039, -0.25864014, -0.41004003, -0.09733433],\n",
       "       [-0.4013779 , -0.25864014, -0.41004003, -0.09733433],\n",
       "       [-0.4013779 , -0.25299085, -0.41004003, -0.09733433],\n",
       "       [-0.4013779 , -0.27433262, -0.41004003, -0.09733433],\n",
       "       [-0.4013779 , -0.2507939 , -0.41004003, -0.09733433],\n",
       "       [-0.4013779 , -0.27119412, -0.41004003, -0.09733433],\n",
       "       [-0.4013779 , -0.27433262, -0.41004003, -0.09733433],\n",
       "       [-0.4013779 , -0.27433262, -0.41004003, -0.09733433],\n",
       "       [-0.4013779 , -0.27433262, -0.41004003, -0.09733433],\n",
       "       [-0.4013779 , -0.27433262, -0.41004003, -0.09733433],\n",
       "       [-0.4013779 , -0.27433262, -0.41004003, -0.09733433],\n",
       "       [-0.4013779 , -0.23667067, -0.41004003, -0.09733433],\n",
       "       [-0.4013779 , -0.20591341, -0.13452342, -0.09733433],\n",
       "       [-0.4013779 , -0.27433262, -0.41004003, -0.09733433],\n",
       "       [-0.4013779 , -0.16134677, -0.41004003, -0.09733433],\n",
       "       [-0.4013779 , -0.27433262, -0.41004003, -0.09733433],\n",
       "       [-0.4013779 , -0.27433262, -0.41004003, -0.09733433],\n",
       "       [-0.4013779 , -0.27307722, -0.27228172, -0.09733433],\n",
       "       [-0.4013779 , -0.26962487, -0.41004003, -0.09733433],\n",
       "       [-0.4013779 ,  0.80468218, -0.41004003, -0.09733433],\n",
       "       [-0.4013779 ,  0.40860403, -0.41004003, -0.09733433],\n",
       "       [-0.4013779 , -0.15381439, -0.41004003, -0.09733433],\n",
       "       [-0.4013779 , -0.27433262, -0.41004003, -0.09733433],\n",
       "       [-0.4013779 , -0.27433262, -0.41004003, -0.09733433],\n",
       "       [-0.4013779 , -0.27433262, -0.41004003, -0.09733433],\n",
       "       [-0.4013779 , -0.27433262, -0.41004003, -0.09733433],\n",
       "       [-0.4013779 , -0.27433262, -0.41004003, -0.09733433],\n",
       "       [-0.4013779 , -0.06217031, -0.41004003, -0.09733433],\n",
       "       [-0.4013779 , -0.27433262, -0.41004003, -0.09733433],\n",
       "       [-0.4013779 ,  2.1250473 , -0.41004003, -0.09733433],\n",
       "       [-0.4013779 , -0.27433262, -0.41004003, -0.09733433],\n",
       "       [-0.4013779 , -0.24922465, -0.41004003, -0.09733433],\n",
       "       [-0.4013779 , -0.27433262, -0.41004003, -0.09733433],\n",
       "       [-0.4013779 , -0.27433262, -0.41004003, -0.09733433],\n",
       "       [-0.4013779 , -0.26052324, -0.41004003, -0.09733433],\n",
       "       [-0.4013779 , -0.27433262, -0.41004003, -0.09733433],\n",
       "       [-0.4013779 , -0.27433262, -0.41004003, -0.09733433],\n",
       "       [-0.4013779 , -0.27433262,  0.27875148, -0.09733433],\n",
       "       [-0.4013779 , -0.26805563, -0.41004003, -0.09733433],\n",
       "       [-0.4013779 , -0.27433262, -0.41004003, -0.09733433],\n",
       "       [-0.4013779 , -0.26177864, -0.41004003, -0.09733433],\n",
       "       [-0.4013779 , -0.12745102, -0.13452342, -0.09733433],\n",
       "       [-0.4013779 , -0.2539324 , -0.41004003, -0.09733433],\n",
       "       [ 7.33691782, -0.27119412, -0.41004003, -0.09733433],\n",
       "       [-0.4013779 , -0.27182182, -0.41004003, -0.09733433],\n",
       "       [-0.4013779 ,  0.13053332, -0.41004003, -0.09733433],\n",
       "       [-0.4013779 , -0.2539324 , -0.41004003, -0.09733433],\n",
       "       [-0.4013779 , -0.27433262,  6.06460011, -0.09733433],\n",
       "       [-0.4013779 , -0.27433262, -0.41004003, -0.09733433],\n",
       "       [-0.4013779 , -0.27433262, -0.41004003, -0.09733433],\n",
       "       [-0.4013779 , -0.27433262, -0.41004003, -0.09733433],\n",
       "       [-0.4013779 , -0.27433262, -0.41004003, -0.06572191],\n",
       "       [-0.4013779 , -0.27433262,  9.78407423, -0.09733433],\n",
       "       [-0.4013779 , -0.27433262, -0.41004003, -0.09733433],\n",
       "       [-0.4013779 , -0.27433262, -0.41004003, -0.09733433],\n",
       "       [-0.4013779 , -0.27433262, -0.41004003, -0.09733433],\n",
       "       [-0.4013779 , -0.27433262, -0.41004003, -0.09733433],\n",
       "       [-0.4013779 , -0.26617253,  0.55426808, -0.09733433],\n",
       "       [ 0.83674941,  3.68017189,  0.14099318, -0.09733433],\n",
       "       [-0.4013779 , -0.26334788, -0.41004003, -0.09733433],\n",
       "       [-0.4013779 , -0.22882443, -0.41004003, -0.09733433],\n",
       "       [-0.4013779 , -0.26805563, -0.41004003, -0.09733433],\n",
       "       [-0.4013779 , -0.26805563, -0.41004003, -0.09733433],\n",
       "       [-0.4013779 , -0.26805563, -0.41004003, -0.09733433],\n",
       "       [-0.4013779 , -0.22254744, -0.41004003, -0.09733433],\n",
       "       [-0.4013779 , -0.27433262, -0.41004003, -0.09733433],\n",
       "       [ 4.55113136, -0.01823137,  0.69202638, -0.09733433],\n",
       "       [-0.4013779 , -0.26993872, -0.41004003, -0.09733433],\n",
       "       [-0.4013779 , -0.27433262, -0.41004003, -0.09733433]])"
      ]
     },
     "execution_count": 79,
     "metadata": {},
     "output_type": "execute_result"
    }
   ],
   "source": [
    "X_test"
   ]
  },
  {
   "cell_type": "markdown",
   "metadata": {
    "id": "kFFYWImml--P"
   },
   "source": [
    "### Kernel SVM"
   ]
  },
  {
   "cell_type": "code",
   "execution_count": 80,
   "metadata": {
    "colab": {
     "base_uri": "https://localhost:8080/"
    },
    "id": "iwgCfM19l-EV",
    "outputId": "31910794-52a3-416f-aabd-85f29a6b438d"
   },
   "outputs": [
    {
     "data": {
      "text/plain": [
       "SVC(random_state=0)"
      ]
     },
     "execution_count": 80,
     "metadata": {},
     "output_type": "execute_result"
    }
   ],
   "source": [
    "from sklearn.svm import SVC\n",
    "classifier = SVC(kernel = 'rbf', random_state = 0)\n",
    "classifier.fit(X_train, y_train)"
   ]
  },
  {
   "cell_type": "code",
   "execution_count": 81,
   "metadata": {
    "id": "gT-r3YPZnGOh"
   },
   "outputs": [],
   "source": [
    "y_pred = classifier.predict(X_test)"
   ]
  },
  {
   "cell_type": "code",
   "execution_count": 82,
   "metadata": {
    "colab": {
     "base_uri": "https://localhost:8080/"
    },
    "id": "uvWGR6pZnaq7",
    "outputId": "47e930ae-c9aa-4a73-fddf-485a3be24b9b"
   },
   "outputs": [
    {
     "data": {
      "text/plain": [
       "array([0, 0, 0, 0, 0, 0, 0, 0, 0, 0, 0, 0, 0, 0, 0, 0, 0, 0, 0, 0, 0, 0,\n",
       "       0, 0, 0, 1, 0, 1, 0, 0, 0, 1, 0, 0, 0, 0, 0, 0, 0, 0, 0, 0, 0, 0,\n",
       "       0, 0, 0, 1, 0, 0, 0, 0, 0, 0, 0, 0, 0, 0, 0, 0, 0, 0, 0, 0, 1, 0,\n",
       "       0, 0, 0, 0, 0, 0, 0, 0, 0, 0, 0, 0, 0, 0, 0, 0, 0, 0, 0, 1, 0, 0,\n",
       "       0, 0, 0, 1, 1, 0, 0, 0, 0, 1, 0, 0, 0, 0, 0, 0, 0, 0, 0, 0, 0, 0,\n",
       "       0, 0, 0, 0, 0, 0, 0, 0, 0, 0, 0, 0, 0, 0, 0, 0, 1, 0, 0, 0, 0, 0,\n",
       "       0, 0, 1, 0, 0, 0, 0, 0, 1, 0, 0, 0, 1, 0, 0, 0, 0, 1, 0, 0, 0, 0,\n",
       "       1, 1, 0, 0, 0, 0, 0, 0, 0, 1, 0, 0], dtype=int64)"
      ]
     },
     "execution_count": 82,
     "metadata": {},
     "output_type": "execute_result"
    }
   ],
   "source": [
    "y_pred"
   ]
  },
  {
   "cell_type": "code",
   "execution_count": 83,
   "metadata": {
    "colab": {
     "base_uri": "https://localhost:8080/"
    },
    "id": "1CGJ5AJdnGdI",
    "outputId": "4ff36084-0824-4165-a69a-13495dac881b"
   },
   "outputs": [
    {
     "name": "stdout",
     "output_type": "stream",
     "text": [
      "[[148   0]\n",
      " [  1  17]]\n"
     ]
    },
    {
     "data": {
      "text/plain": [
       "0.9939759036144579"
      ]
     },
     "execution_count": 83,
     "metadata": {},
     "output_type": "execute_result"
    }
   ],
   "source": [
    "from sklearn.metrics import confusion_matrix, accuracy_score\n",
    "cm = confusion_matrix(y_test, y_pred)\n",
    "print(cm)\n",
    "accuracy_score(y_test, y_pred)"
   ]
  },
  {
   "cell_type": "markdown",
   "metadata": {
    "id": "osuPIgKw5_Ao"
   },
   "source": [
    "# Model Architecture 1"
   ]
  },
  {
   "cell_type": "markdown",
   "metadata": {
    "id": "0EYXxzTo5_Ao"
   },
   "source": [
    "## Buiding the Artificial Neural Network"
   ]
  },
  {
   "cell_type": "markdown",
   "metadata": {
    "id": "x9gT5PqO5_Ao"
   },
   "source": [
    "### Initializing the Neural Network\n",
    "\n",
    "* Activation function: relu, sigmoid(Output layer)\n",
    "* Units: 1000, 1\n",
    "* Dropout: 0.2\n",
    "* Epoch: 10\n",
    "* Batch Size = 16\n",
    "* Optimizer: Adam\n",
    "* loss function: binary_crossentropy"
   ]
  },
  {
   "cell_type": "code",
   "execution_count": 84,
   "metadata": {
    "colab": {
     "base_uri": "https://localhost:8080/"
    },
    "id": "2Ppp522D5_Ap",
    "outputId": "9849b099-d04f-4e58-9085-a59cd3461552"
   },
   "outputs": [
    {
     "name": "stdout",
     "output_type": "stream",
     "text": [
      "Model: \"sequential\"\n",
      "_________________________________________________________________\n",
      " Layer (type)                Output Shape              Param #   \n",
      "=================================================================\n",
      " dense (Dense)               (None, 1000)              5000      \n",
      "                                                                 \n",
      " dropout (Dropout)           (None, 1000)              0         \n",
      "                                                                 \n",
      " dense_1 (Dense)             (None, 1)                 1001      \n",
      "                                                                 \n",
      "=================================================================\n",
      "Total params: 6,001\n",
      "Trainable params: 6,001\n",
      "Non-trainable params: 0\n",
      "_________________________________________________________________\n"
     ]
    }
   ],
   "source": [
    "model_1 = Sequential() \n",
    "model_1.add(Dense(units=1000, activation='relu', input_shape=(4,)))  #Adding the input layer\n",
    "model_1.add(Dropout(0.2))\n",
    "model_1.add(Dense(1, activation='sigmoid')) # Adding the output layer\n",
    "\n",
    "model_1.summary()\n",
    "\n",
    "model_1.compile(loss='binary_crossentropy', \n",
    "              optimizer='adam', \n",
    "              metrics=['accuracy'])"
   ]
  },
  {
   "cell_type": "markdown",
   "metadata": {
    "id": "cfObrd175_Ap"
   },
   "source": [
    "### Training the Artificial Neural Network"
   ]
  },
  {
   "cell_type": "code",
   "execution_count": 85,
   "metadata": {
    "colab": {
     "base_uri": "https://localhost:8080/"
    },
    "id": "YfeF3rbW5_Aq",
    "outputId": "6601eafd-fa2a-434b-a45e-f4a0791f1938"
   },
   "outputs": [
    {
     "name": "stdout",
     "output_type": "stream",
     "text": [
      "Epoch 1/20\n",
      "46/46 [==============================] - 4s 12ms/step - loss: 0.4469 - accuracy: 0.8424 - val_loss: 0.2580 - val_accuracy: 0.9699\n",
      "Epoch 2/20\n",
      "46/46 [==============================] - 0s 4ms/step - loss: 0.2257 - accuracy: 0.9420 - val_loss: 0.1551 - val_accuracy: 0.9940\n",
      "Epoch 3/20\n",
      "46/46 [==============================] - 0s 5ms/step - loss: 0.1470 - accuracy: 0.9673 - val_loss: 0.1112 - val_accuracy: 0.9940\n",
      "Epoch 4/20\n",
      "46/46 [==============================] - 0s 5ms/step - loss: 0.1146 - accuracy: 0.9741 - val_loss: 0.0883 - val_accuracy: 0.9940\n",
      "Epoch 5/20\n",
      "46/46 [==============================] - 0s 5ms/step - loss: 0.0988 - accuracy: 0.9789 - val_loss: 0.0843 - val_accuracy: 0.9940\n",
      "Epoch 6/20\n",
      "46/46 [==============================] - 0s 5ms/step - loss: 0.0884 - accuracy: 0.9809 - val_loss: 0.0697 - val_accuracy: 0.9940\n",
      "Epoch 7/20\n",
      "46/46 [==============================] - 0s 5ms/step - loss: 0.0820 - accuracy: 0.9802 - val_loss: 0.0638 - val_accuracy: 0.9940\n",
      "Epoch 8/20\n",
      "46/46 [==============================] - 0s 5ms/step - loss: 0.0746 - accuracy: 0.9816 - val_loss: 0.0692 - val_accuracy: 0.9940\n",
      "Epoch 9/20\n",
      "46/46 [==============================] - 0s 5ms/step - loss: 0.0712 - accuracy: 0.9809 - val_loss: 0.0642 - val_accuracy: 0.9940\n",
      "Epoch 10/20\n",
      "46/46 [==============================] - 0s 5ms/step - loss: 0.0627 - accuracy: 0.9843 - val_loss: 0.0560 - val_accuracy: 0.9940\n",
      "Epoch 11/20\n",
      "46/46 [==============================] - 0s 5ms/step - loss: 0.0593 - accuracy: 0.9843 - val_loss: 0.0437 - val_accuracy: 0.9940\n",
      "Epoch 12/20\n",
      "46/46 [==============================] - 0s 5ms/step - loss: 0.0520 - accuracy: 0.9857 - val_loss: 0.0534 - val_accuracy: 0.9940\n",
      "Epoch 13/20\n",
      "46/46 [==============================] - 0s 5ms/step - loss: 0.0484 - accuracy: 0.9857 - val_loss: 0.0537 - val_accuracy: 0.9940\n",
      "Epoch 14/20\n",
      "46/46 [==============================] - 0s 5ms/step - loss: 0.0443 - accuracy: 0.9857 - val_loss: 0.0465 - val_accuracy: 0.9940\n",
      "Epoch 15/20\n",
      "46/46 [==============================] - 0s 5ms/step - loss: 0.0396 - accuracy: 0.9884 - val_loss: 0.0378 - val_accuracy: 0.9940\n",
      "Epoch 16/20\n",
      "46/46 [==============================] - 0s 5ms/step - loss: 0.0366 - accuracy: 0.9884 - val_loss: 0.0342 - val_accuracy: 0.9940\n",
      "Epoch 17/20\n",
      "46/46 [==============================] - 0s 5ms/step - loss: 0.0333 - accuracy: 0.9884 - val_loss: 0.0287 - val_accuracy: 0.9940\n",
      "Epoch 18/20\n",
      "46/46 [==============================] - 0s 6ms/step - loss: 0.0289 - accuracy: 0.9891 - val_loss: 0.0316 - val_accuracy: 0.9940\n",
      "Epoch 19/20\n",
      "46/46 [==============================] - ETA: 0s - loss: 0.0259 - accuracy: 0.99 - 0s 5ms/step - loss: 0.0260 - accuracy: 0.9911 - val_loss: 0.0366 - val_accuracy: 0.9940\n",
      "Epoch 20/20\n",
      "46/46 [==============================] - 0s 5ms/step - loss: 0.0250 - accuracy: 0.9925 - val_loss: 0.0222 - val_accuracy: 0.9940\n"
     ]
    }
   ],
   "source": [
    "batch_size = 32\n",
    "epochs = 20\n",
    "\n",
    "history = model_1.fit(X_train, y_train, \n",
    "                    batch_size=batch_size, \n",
    "                    epochs=epochs, \n",
    "                    verbose=1, \n",
    "                    validation_data=(X_test, y_test))\n",
    "score = model_1.evaluate(X_test, y_test, verbose=0) "
   ]
  },
  {
   "cell_type": "code",
   "execution_count": 87,
   "metadata": {
    "colab": {
     "base_uri": "https://localhost:8080/"
    },
    "id": "uNxa1MykvK8O",
    "outputId": "65665876-ccc6-4bbf-abfb-4e95c24c1a4c"
   },
   "outputs": [
    {
     "name": "stdout",
     "output_type": "stream",
     "text": [
      "score\n",
      "Test loss: 0.02216632477939129\n",
      "Test accuracy: 0.9939758777618408\n"
     ]
    }
   ],
   "source": [
    "print(\"score\")\n",
    "print('Test loss:', score[0]) \n",
    "print('Test accuracy:', score[1])"
   ]
  },
  {
   "cell_type": "markdown",
   "metadata": {
    "id": "X1hs-mBV5_Aq"
   },
   "source": [
    "### Visualizing the training result"
   ]
  },
  {
   "cell_type": "code",
   "execution_count": 88,
   "metadata": {
    "colab": {
     "base_uri": "https://localhost:8080/",
     "height": 501
    },
    "id": "6gQwaN2Z5_Aq",
    "outputId": "b572cf1f-d4bb-4859-8e10-7759b3df499b",
    "scrolled": true
   },
   "outputs": [
    {
     "data": {
      "image/png": "[encoded data removed]",
      "text/plain": [
       "<Figure size 576x576 with 1 Axes>"
      ]
     },
     "metadata": {},
     "output_type": "display_data"
    }
   ],
   "source": [
    "acc = history.history['accuracy'] \n",
    "val_acc = history.history['val_accuracy'] \n",
    "loss = history.history['loss'] \n",
    "val_loss = history.history['val_loss'] \n",
    "epochs_range = range(epochs) \n",
    "plt.figure(figsize=(8, 8)) \n",
    "plt.plot(epochs_range, acc, label='Training Accuracy') \n",
    "plt.plot(epochs_range, val_acc, label='Validation Accuracy') \n",
    "plt.legend(loc='lower right') \n",
    "plt.title('Training and Validation Accuracy') \n",
    "plt.plot(epochs_range, loss, label='Training Loss') \n",
    "plt.plot(epochs_range, val_loss, label='Validation Loss') \n",
    "plt.legend(loc='upper right') \n",
    "plt.title('Training and Validation Loss') \n",
    "plt.savefig(\"water_quality_nn.pdf\", dpi=100) \n",
    "plt.show() "
   ]
  },
  {
   "cell_type": "markdown",
   "metadata": {
    "id": "2WkJYCdX5_Aq"
   },
   "source": [
    "# Model 2\n",
    "Adjusting the parameters in Model 1\n",
    "* Activation function: relu, relu, sigmoid\n",
    "* Units: 500, 5, 1\n",
    "* Dropout: 0.9,0.2\n",
    "* Epoch: 15\n",
    "* Batch Size 32\n",
    "* Optimizer: Adam\n",
    "* loss function: binary_crossentropy"
   ]
  },
  {
   "cell_type": "code",
   "execution_count": 53,
   "metadata": {
    "colab": {
     "base_uri": "https://localhost:8080/",
     "height": 1000
    },
    "id": "iXh0zD1p5_Ar",
    "outputId": "6080fa53-3865-493a-bb68-39e0c52b0074"
   },
   "outputs": [
    {
     "name": "stdout",
     "output_type": "stream",
     "text": [
      "Model: \"sequential_1\"\n",
      "_________________________________________________________________\n",
      " Layer (type)                Output Shape              Param #   \n",
      "=================================================================\n",
      " dense_2 (Dense)             (None, 500)               2500      \n",
      "                                                                 \n",
      " dropout_1 (Dropout)         (None, 500)               0         \n",
      "                                                                 \n",
      " dense_3 (Dense)             (None, 5)                 2505      \n",
      "                                                                 \n",
      " dropout_2 (Dropout)         (None, 5)                 0         \n",
      "                                                                 \n",
      " dense_4 (Dense)             (None, 1)                 6         \n",
      "                                                                 \n",
      "=================================================================\n",
      "Total params: 5,011\n",
      "Trainable params: 5,011\n",
      "Non-trainable params: 0\n",
      "_________________________________________________________________\n",
      "Epoch 1/15\n",
      "46/46 [==============================] - 1s 6ms/step - loss: 0.6701 - accuracy: 0.5430 - val_loss: 0.6482 - val_accuracy: 0.9157\n",
      "Epoch 2/15\n",
      "46/46 [==============================] - 0s 3ms/step - loss: 0.6310 - accuracy: 0.6917 - val_loss: 0.5892 - val_accuracy: 0.9398\n",
      "Epoch 3/15\n",
      "46/46 [==============================] - 0s 3ms/step - loss: 0.5790 - accuracy: 0.7613 - val_loss: 0.5328 - val_accuracy: 0.9398\n",
      "Epoch 4/15\n",
      "46/46 [==============================] - 0s 4ms/step - loss: 0.5482 - accuracy: 0.8001 - val_loss: 0.4880 - val_accuracy: 0.9518\n",
      "Epoch 5/15\n",
      "46/46 [==============================] - 0s 4ms/step - loss: 0.5109 - accuracy: 0.8145 - val_loss: 0.4521 - val_accuracy: 0.9578\n",
      "Epoch 6/15\n",
      "46/46 [==============================] - 0s 3ms/step - loss: 0.4681 - accuracy: 0.8308 - val_loss: 0.4166 - val_accuracy: 0.9759\n",
      "Epoch 7/15\n",
      "46/46 [==============================] - 0s 3ms/step - loss: 0.4437 - accuracy: 0.8254 - val_loss: 0.3892 - val_accuracy: 0.9759\n",
      "Epoch 8/15\n",
      "46/46 [==============================] - 0s 3ms/step - loss: 0.4186 - accuracy: 0.8377 - val_loss: 0.3663 - val_accuracy: 0.9759\n",
      "Epoch 9/15\n",
      "46/46 [==============================] - 0s 3ms/step - loss: 0.3960 - accuracy: 0.8472 - val_loss: 0.3438 - val_accuracy: 0.9759\n",
      "Epoch 10/15\n",
      "46/46 [==============================] - 0s 3ms/step - loss: 0.3728 - accuracy: 0.8629 - val_loss: 0.3217 - val_accuracy: 0.9759\n",
      "Epoch 11/15\n",
      "46/46 [==============================] - 0s 3ms/step - loss: 0.3542 - accuracy: 0.8697 - val_loss: 0.3012 - val_accuracy: 0.9759\n",
      "Epoch 12/15\n",
      "46/46 [==============================] - 0s 3ms/step - loss: 0.3420 - accuracy: 0.8690 - val_loss: 0.2880 - val_accuracy: 0.9759\n",
      "Epoch 13/15\n",
      "46/46 [==============================] - 0s 3ms/step - loss: 0.3411 - accuracy: 0.8615 - val_loss: 0.2757 - val_accuracy: 0.9759\n",
      "Epoch 14/15\n",
      "46/46 [==============================] - 0s 3ms/step - loss: 0.3064 - accuracy: 0.9018 - val_loss: 0.2620 - val_accuracy: 0.9759\n",
      "Epoch 15/15\n",
      "46/46 [==============================] - 0s 4ms/step - loss: 0.2949 - accuracy: 0.8977 - val_loss: 0.2513 - val_accuracy: 0.9759\n",
      "Test loss: 0.2512795925140381\n",
      "Test accuracy: 0.9759036302566528\n"
     ]
    },
    {
     "data": {
      "image/png": "[encoded data removed]",
      "text/plain": [
       "<Figure size 576x576 with 1 Axes>"
      ]
     },
     "metadata": {},
     "output_type": "display_data"
    }
   ],
   "source": [
    "model_2 = Sequential() \n",
    "model_2.add(Dense(units=500, activation='relu', input_shape=(4,))) \n",
    "model_2.add(Dropout(0.9)) \n",
    "model_2.add(Dense(units=5, activation='relu'))\n",
    "model_2.add(Dropout(0.2))\n",
    "model_2.add(Dense(1, activation='sigmoid'))\n",
    "\n",
    "model_2.summary()\n",
    "\n",
    "model_2.compile(loss='binary_crossentropy', \n",
    "              optimizer='SGD', \n",
    "              metrics=['accuracy'])\n",
    "\n",
    "\n",
    "\n",
    "\n",
    "batch_size = 32\n",
    "epochs =15\n",
    "\n",
    "history = model_2.fit(X_train, y_train, \n",
    "                    batch_size=batch_size, \n",
    "                    epochs=epochs, \n",
    "                    verbose=1, \n",
    "                    validation_data=(X_test, y_test))\n",
    "score = model_2.evaluate(X_test, y_test, verbose=0) \n",
    "print('Test loss:', score[0])\n",
    "print('Test accuracy:', score[1])\n",
    "\n",
    "acc = history.history['accuracy'] \n",
    "val_acc = history.history['val_accuracy'] \n",
    "loss = history.history['loss'] \n",
    "val_loss = history.history['val_loss'] \n",
    "epochs_range = range(epochs) \n",
    "plt.figure(figsize=(8, 8)) \n",
    "plt.plot(epochs_range, acc, label='Training Accuracy') \n",
    "plt.plot(epochs_range, val_acc, label='Validation Accuracy') \n",
    "plt.legend(loc='lower right') \n",
    "plt.title('Training and Validation Accuracy') \n",
    "plt.plot(epochs_range, loss, label='Training Loss') \n",
    "plt.plot(epochs_range, val_loss, label='Validation Loss') \n",
    "plt.legend(loc='upper right') \n",
    "plt.title('Training and Validation Loss') \n",
    "plt.savefig(\"water_quality_nn.pdf\", dpi=100) \n",
    "plt.show() "
   ]
  },
  {
   "cell_type": "markdown",
   "metadata": {
    "id": "31UFRJAG5_Ar"
   },
   "source": [
    "# Model Architecture 3"
   ]
  },
  {
   "cell_type": "markdown",
   "metadata": {
    "id": "HlBQHxbN5_Ar"
   },
   "source": [
    "## Training, evaluating and visualizing the neural network\n",
    "* Activation function: ReLu, tanh, sigmoid\n",
    "* Units: 32, 5\n",
    "* Dropout: 0.2,0.2\n",
    "* Epoch: 20\n",
    "* Batch_size 32\n",
    "* Optimizer: Adam\n",
    "* loss function: binary_crossentropy"
   ]
  },
  {
   "cell_type": "code",
   "execution_count": 89,
   "metadata": {
    "colab": {
     "base_uri": "https://localhost:8080/",
     "height": 1000
    },
    "id": "YkqoaK6J5_As",
    "outputId": "4035ad02-ce55-46e3-dd41-5dbceeda7214"
   },
   "outputs": [
    {
     "name": "stdout",
     "output_type": "stream",
     "text": [
      "Model: \"sequential_1\"\n",
      "_________________________________________________________________\n",
      " Layer (type)                Output Shape              Param #   \n",
      "=================================================================\n",
      " dense_2 (Dense)             (None, 32)                160       \n",
      "                                                                 \n",
      " dropout_1 (Dropout)         (None, 32)                0         \n",
      "                                                                 \n",
      " dense_3 (Dense)             (None, 5)                 165       \n",
      "                                                                 \n",
      " dropout_2 (Dropout)         (None, 5)                 0         \n",
      "                                                                 \n",
      " dense_4 (Dense)             (None, 1)                 6         \n",
      "                                                                 \n",
      "=================================================================\n",
      "Total params: 331\n",
      "Trainable params: 331\n",
      "Non-trainable params: 0\n",
      "_________________________________________________________________\n",
      "Epoch 1/20\n",
      "46/46 [==============================] - 1s 8ms/step - loss: 0.6377 - accuracy: 0.6876 - val_loss: 0.5445 - val_accuracy: 0.9759\n",
      "Epoch 2/20\n",
      "46/46 [==============================] - 0s 3ms/step - loss: 0.4677 - accuracy: 0.8997 - val_loss: 0.3827 - val_accuracy: 0.9518\n",
      "Epoch 3/20\n",
      "46/46 [==============================] - 0s 4ms/step - loss: 0.3630 - accuracy: 0.9154 - val_loss: 0.2942 - val_accuracy: 0.9699\n",
      "Epoch 4/20\n",
      "46/46 [==============================] - 0s 4ms/step - loss: 0.2908 - accuracy: 0.9386 - val_loss: 0.2303 - val_accuracy: 0.9759\n",
      "Epoch 5/20\n",
      "46/46 [==============================] - 0s 4ms/step - loss: 0.2354 - accuracy: 0.9529 - val_loss: 0.1786 - val_accuracy: 0.9759\n",
      "Epoch 6/20\n",
      "46/46 [==============================] - 0s 4ms/step - loss: 0.2013 - accuracy: 0.9570 - val_loss: 0.1454 - val_accuracy: 0.9880\n",
      "Epoch 7/20\n",
      "46/46 [==============================] - 0s 4ms/step - loss: 0.1712 - accuracy: 0.9618 - val_loss: 0.1243 - val_accuracy: 0.9880\n",
      "Epoch 8/20\n",
      "46/46 [==============================] - 0s 4ms/step - loss: 0.1531 - accuracy: 0.9707 - val_loss: 0.1076 - val_accuracy: 0.9940\n",
      "Epoch 9/20\n",
      "46/46 [==============================] - 0s 4ms/step - loss: 0.1356 - accuracy: 0.9754 - val_loss: 0.0974 - val_accuracy: 0.9940\n",
      "Epoch 10/20\n",
      "46/46 [==============================] - 0s 4ms/step - loss: 0.1300 - accuracy: 0.9748 - val_loss: 0.0834 - val_accuracy: 0.9940\n",
      "Epoch 11/20\n",
      "46/46 [==============================] - 0s 4ms/step - loss: 0.1134 - accuracy: 0.9782 - val_loss: 0.0728 - val_accuracy: 0.9940\n",
      "Epoch 12/20\n",
      "46/46 [==============================] - 0s 3ms/step - loss: 0.1122 - accuracy: 0.9775 - val_loss: 0.0719 - val_accuracy: 0.9940\n",
      "Epoch 13/20\n",
      "46/46 [==============================] - 0s 4ms/step - loss: 0.1078 - accuracy: 0.9789 - val_loss: 0.0661 - val_accuracy: 0.9940\n",
      "Epoch 14/20\n",
      "46/46 [==============================] - 0s 4ms/step - loss: 0.1047 - accuracy: 0.9782 - val_loss: 0.0601 - val_accuracy: 0.9940\n",
      "Epoch 15/20\n",
      "46/46 [==============================] - 0s 4ms/step - loss: 0.1026 - accuracy: 0.9782 - val_loss: 0.0603 - val_accuracy: 0.9940\n",
      "Epoch 16/20\n",
      "46/46 [==============================] - 0s 4ms/step - loss: 0.0953 - accuracy: 0.9789 - val_loss: 0.0607 - val_accuracy: 0.9940\n",
      "Epoch 17/20\n",
      "46/46 [==============================] - 0s 4ms/step - loss: 0.0896 - accuracy: 0.9782 - val_loss: 0.0593 - val_accuracy: 0.9940\n",
      "Epoch 18/20\n",
      "46/46 [==============================] - 0s 4ms/step - loss: 0.0891 - accuracy: 0.9802 - val_loss: 0.0564 - val_accuracy: 0.9940\n",
      "Epoch 19/20\n",
      "46/46 [==============================] - 0s 4ms/step - loss: 0.0889 - accuracy: 0.9782 - val_loss: 0.0508 - val_accuracy: 0.9940\n",
      "Epoch 20/20\n",
      "46/46 [==============================] - 0s 4ms/step - loss: 0.0847 - accuracy: 0.9816 - val_loss: 0.0500 - val_accuracy: 0.9940\n",
      "Test loss: 0.049978841096162796\n",
      "Test accuracy: 0.9939758777618408\n"
     ]
    },
    {
     "data": {
      "image/png": "[encoded data removed]",
      "text/plain": [
       "<Figure size 576x576 with 1 Axes>"
      ]
     },
     "metadata": {},
     "output_type": "display_data"
    }
   ],
   "source": [
    "model_3 = Sequential() \n",
    "model_3.add(Dense(units=32, activation='relu', input_shape=(4,)))  # Adding the input layer\n",
    "model_3.add(Dropout(0.2)) \n",
    "model_3.add(Dense(units=5, activation='tanh'))  #Adding the second hidden layer\n",
    "model_3.add(Dropout(0.2))\n",
    "model_3.add(Dense(1, activation='sigmoid')) # Adding the outer layer\n",
    "\n",
    "model_3.summary()\n",
    "\n",
    "model_3.compile(loss=\"binary_crossentropy\", \n",
    "              optimizer=\"RMSprop\", \n",
    "              metrics=['accuracy'])\n",
    "\n",
    "batch_size = 32\n",
    "epochs = 20\n",
    "\n",
    "history = model_3.fit(X_train, y_train, \n",
    "                    batch_size=batch_size, \n",
    "                    epochs=epochs, \n",
    "                    verbose=1, \n",
    "                    validation_data=(X_test, y_test))\n",
    "score = model_3.evaluate(X_test, y_test, verbose=0) \n",
    "print('Test loss:', score[0]) \n",
    "print('Test accuracy:', score[1])\n",
    "\n",
    "acc = history.history['accuracy'] \n",
    "val_acc = history.history['val_accuracy'] \n",
    "loss = history.history['loss'] \n",
    "val_loss = history.history['val_loss'] \n",
    "epochs_range = range(epochs) \n",
    "plt.figure(figsize=(8, 8)) \n",
    "plt.plot(epochs_range, acc, label='Training Accuracy') \n",
    "plt.plot(epochs_range, val_acc, label='Validation Accuracy') \n",
    "plt.legend(loc='lower right') \n",
    "plt.title('Training and Validation Accuracy') \n",
    "plt.plot(epochs_range, loss, label='Training Loss') \n",
    "plt.plot(epochs_range, val_loss, label='Validation Loss') \n",
    "plt.legend(loc='upper right') \n",
    "plt.title('Training and Validation Loss') \n",
    "plt.savefig(\"water_quality_nn.pdf\", dpi=100) \n",
    "plt.show() "
   ]
  },
  {
   "cell_type": "markdown",
   "metadata": {},
   "source": [
    "### Model Architecture 4 (Deeper Network)"
   ]
  },
  {
   "cell_type": "code",
   "execution_count": 90,
   "metadata": {},
   "outputs": [
    {
     "name": "stdout",
     "output_type": "stream",
     "text": [
      "Model: \"sequential_2\"\n",
      "_________________________________________________________________\n",
      " Layer (type)                Output Shape              Param #   \n",
      "=================================================================\n",
      " dense_5 (Dense)             (None, 1000)              5000      \n",
      "                                                                 \n",
      " dropout_3 (Dropout)         (None, 1000)              0         \n",
      "                                                                 \n",
      " dense_6 (Dense)             (None, 32)                32032     \n",
      "                                                                 \n",
      " dropout_4 (Dropout)         (None, 32)                0         \n",
      "                                                                 \n",
      " dense_7 (Dense)             (None, 5)                 165       \n",
      "                                                                 \n",
      " dropout_5 (Dropout)         (None, 5)                 0         \n",
      "                                                                 \n",
      " dense_8 (Dense)             (None, 5)                 30        \n",
      "                                                                 \n",
      " dropout_6 (Dropout)         (None, 5)                 0         \n",
      "                                                                 \n",
      " dense_9 (Dense)             (None, 1)                 6         \n",
      "                                                                 \n",
      "=================================================================\n",
      "Total params: 37,233\n",
      "Trainable params: 37,233\n",
      "Non-trainable params: 0\n",
      "_________________________________________________________________\n",
      "Epoch 1/20\n",
      "46/46 [==============================] - 1s 10ms/step - loss: 0.8521 - accuracy: 0.5034 - val_loss: 1.1769 - val_accuracy: 0.1084\n",
      "Epoch 2/20\n",
      "46/46 [==============================] - 0s 5ms/step - loss: 0.7815 - accuracy: 0.5034 - val_loss: 1.0272 - val_accuracy: 0.1084\n",
      "Epoch 3/20\n",
      "46/46 [==============================] - 0s 6ms/step - loss: 0.7346 - accuracy: 0.5116 - val_loss: 0.9253 - val_accuracy: 0.1084\n",
      "Epoch 4/20\n",
      "46/46 [==============================] - 0s 5ms/step - loss: 0.7035 - accuracy: 0.5177 - val_loss: 0.8548 - val_accuracy: 0.1084\n",
      "Epoch 5/20\n",
      "46/46 [==============================] - 0s 6ms/step - loss: 0.6897 - accuracy: 0.5157 - val_loss: 0.8018 - val_accuracy: 0.1084\n",
      "Epoch 6/20\n",
      "46/46 [==============================] - 0s 5ms/step - loss: 0.6709 - accuracy: 0.5587 - val_loss: 0.7629 - val_accuracy: 0.1084\n",
      "Epoch 7/20\n",
      "46/46 [==============================] - 0s 5ms/step - loss: 0.6661 - accuracy: 0.5675 - val_loss: 0.7311 - val_accuracy: 0.1084\n",
      "Epoch 8/20\n",
      "46/46 [==============================] - 0s 5ms/step - loss: 0.6536 - accuracy: 0.6050 - val_loss: 0.7048 - val_accuracy: 0.1084\n",
      "Epoch 9/20\n",
      "46/46 [==============================] - 0s 5ms/step - loss: 0.6389 - accuracy: 0.5996 - val_loss: 0.6836 - val_accuracy: 0.1084\n",
      "Epoch 10/20\n",
      "46/46 [==============================] - 0s 5ms/step - loss: 0.6329 - accuracy: 0.6241 - val_loss: 0.6663 - val_accuracy: 0.9096\n",
      "Epoch 11/20\n",
      "46/46 [==============================] - 0s 5ms/step - loss: 0.6173 - accuracy: 0.6739 - val_loss: 0.6499 - val_accuracy: 0.9639\n",
      "Epoch 12/20\n",
      "46/46 [==============================] - ETA: 0s - loss: 0.6114 - accuracy: 0.69 - 0s 5ms/step - loss: 0.6150 - accuracy: 0.6869 - val_loss: 0.6346 - val_accuracy: 0.9639\n",
      "Epoch 13/20\n",
      "46/46 [==============================] - 0s 6ms/step - loss: 0.6025 - accuracy: 0.7190 - val_loss: 0.6203 - val_accuracy: 0.9699\n",
      "Epoch 14/20\n",
      "46/46 [==============================] - 0s 5ms/step - loss: 0.5939 - accuracy: 0.7367 - val_loss: 0.6067 - val_accuracy: 0.9699\n",
      "Epoch 15/20\n",
      "46/46 [==============================] - 0s 5ms/step - loss: 0.5822 - accuracy: 0.7551 - val_loss: 0.5944 - val_accuracy: 0.9699\n",
      "Epoch 16/20\n",
      "46/46 [==============================] - 0s 5ms/step - loss: 0.5727 - accuracy: 0.7483 - val_loss: 0.5794 - val_accuracy: 0.9699\n",
      "Epoch 17/20\n",
      "46/46 [==============================] - 0s 6ms/step - loss: 0.5568 - accuracy: 0.7735 - val_loss: 0.5668 - val_accuracy: 0.9699\n",
      "Epoch 18/20\n",
      "46/46 [==============================] - 0s 5ms/step - loss: 0.5421 - accuracy: 0.7926 - val_loss: 0.5520 - val_accuracy: 0.9759\n",
      "Epoch 19/20\n",
      "46/46 [==============================] - 0s 5ms/step - loss: 0.5256 - accuracy: 0.8199 - val_loss: 0.5388 - val_accuracy: 0.9759\n",
      "Epoch 20/20\n",
      "46/46 [==============================] - 0s 5ms/step - loss: 0.5152 - accuracy: 0.8186 - val_loss: 0.5241 - val_accuracy: 0.9759\n",
      "Test loss: 0.5241425037384033\n",
      "Test accuracy: 0.9759036302566528\n"
     ]
    },
    {
     "data": {
      "image/png": "[encoded data removed]",
      "text/plain": [
       "<Figure size 576x576 with 1 Axes>"
      ]
     },
     "metadata": {},
     "output_type": "display_data"
    }
   ],
   "source": [
    "model_4 = Sequential() \n",
    "model_4.add(Dense(units=1000, activation='relu', input_shape=(4,)))  # Adding the input layer\n",
    "model_4.add(Dropout(0.2)) \n",
    "model_4.add(Dense(units=32, activation='tanh'))  #Adding the second hidden layer\n",
    "model_4.add(Dropout(0.2))\n",
    "model_4.add(Dense(units=5, activation='tanh'))  #Adding the third hidden layer\n",
    "model_4.add(Dropout(0.2))\n",
    "model_4.add(Dense(units=5, activation='sigmoid'))  #Adding the forth layer\n",
    "model_4.add(Dropout(0.2))\n",
    "model_4.add(Dense(1, activation='sigmoid')) # Adding the outer layer\n",
    "\n",
    "\n",
    "\n",
    "model_4.summary()\n",
    "\n",
    "model_4.compile(loss=\"binary_crossentropy\", \n",
    "              optimizer=\"SGD\", \n",
    "              metrics=['accuracy'])\n",
    "\n",
    "batch_size = 32\n",
    "epochs = 20\n",
    "\n",
    "history = model_4.fit(X_train, y_train, \n",
    "                    batch_size=batch_size, \n",
    "                    epochs=epochs, \n",
    "                    verbose=1, \n",
    "                    validation_data=(X_test, y_test))\n",
    "score = model_4.evaluate(X_test, y_test, verbose=0) \n",
    "print('Test loss:', score[0]) \n",
    "print('Test accuracy:', score[1])\n",
    "\n",
    "acc = history.history['accuracy'] \n",
    "val_acc = history.history['val_accuracy'] \n",
    "loss = history.history['loss'] \n",
    "val_loss = history.history['val_loss'] \n",
    "epochs_range = range(epochs) \n",
    "plt.figure(figsize=(8, 8)) \n",
    "plt.plot(epochs_range, acc, label='Training Accuracy') \n",
    "plt.plot(epochs_range, val_acc, label='Validation Accuracy') \n",
    "plt.legend(loc='lower right') \n",
    "plt.title('Training and Validation Accuracy') \n",
    "plt.plot(epochs_range, loss, label='Training Loss') \n",
    "plt.plot(epochs_range, val_loss, label='Validation Loss') \n",
    "plt.legend(loc='upper right') \n",
    "plt.title('Training and Validation Loss') \n",
    "plt.savefig(\"water_quality_nn.pdf\", dpi=100) \n",
    "plt.show() "
   ]
  },
  {
   "cell_type": "code",
   "execution_count": null,
   "metadata": {
    "colab": {
     "base_uri": "https://localhost:8080/"
    },
    "id": "U50QzKzI5_Av",
    "outputId": "d58ee2a1-2aca-4f17-c9ea-6191f2d5c508"
   },
   "outputs": [
    {
     "data": {
      "text/plain": [
       "(166, 4)"
      ]
     },
     "execution_count": 69,
     "metadata": {},
     "output_type": "execute_result"
    }
   ],
   "source": [
    "X_test.shape"
   ]
  },
  {
   "cell_type": "markdown",
   "metadata": {
    "id": "XrEoGxlM5_Av"
   },
   "source": [
    "## Making  a Prediction\n",
    "\n",
    "### Generating an array of zeros in the shape of x_test"
   ]
  },
  {
   "cell_type": "code",
   "execution_count": 55,
   "metadata": {
    "colab": {
     "base_uri": "https://localhost:8080/"
    },
    "id": "rkJ4tUGP5_Aw",
    "outputId": "4a72f910-2343-450e-e9eb-cc8874f1fd7f"
   },
   "outputs": [
    {
     "data": {
      "text/plain": [
       "array([[0., 0., 0., 0.],\n",
       "       [0., 0., 0., 0.],\n",
       "       [0., 0., 0., 0.],\n",
       "       [0., 0., 0., 0.],\n",
       "       [0., 0., 0., 0.],\n",
       "       [0., 0., 0., 0.],\n",
       "       [0., 0., 0., 0.],\n",
       "       [0., 0., 0., 0.],\n",
       "       [0., 0., 0., 0.],\n",
       "       [0., 0., 0., 0.],\n",
       "       [0., 0., 0., 0.],\n",
       "       [0., 0., 0., 0.],\n",
       "       [0., 0., 0., 0.],\n",
       "       [0., 0., 0., 0.],\n",
       "       [0., 0., 0., 0.],\n",
       "       [0., 0., 0., 0.],\n",
       "       [0., 0., 0., 0.],\n",
       "       [0., 0., 0., 0.],\n",
       "       [0., 0., 0., 0.],\n",
       "       [0., 0., 0., 0.],\n",
       "       [0., 0., 0., 0.],\n",
       "       [0., 0., 0., 0.],\n",
       "       [0., 0., 0., 0.],\n",
       "       [0., 0., 0., 0.],\n",
       "       [0., 0., 0., 0.],\n",
       "       [0., 0., 0., 0.],\n",
       "       [0., 0., 0., 0.],\n",
       "       [0., 0., 0., 0.],\n",
       "       [0., 0., 0., 0.],\n",
       "       [0., 0., 0., 0.],\n",
       "       [0., 0., 0., 0.],\n",
       "       [0., 0., 0., 0.],\n",
       "       [0., 0., 0., 0.],\n",
       "       [0., 0., 0., 0.],\n",
       "       [0., 0., 0., 0.],\n",
       "       [0., 0., 0., 0.],\n",
       "       [0., 0., 0., 0.],\n",
       "       [0., 0., 0., 0.],\n",
       "       [0., 0., 0., 0.],\n",
       "       [0., 0., 0., 0.],\n",
       "       [0., 0., 0., 0.],\n",
       "       [0., 0., 0., 0.],\n",
       "       [0., 0., 0., 0.],\n",
       "       [0., 0., 0., 0.],\n",
       "       [0., 0., 0., 0.],\n",
       "       [0., 0., 0., 0.],\n",
       "       [0., 0., 0., 0.],\n",
       "       [0., 0., 0., 0.],\n",
       "       [0., 0., 0., 0.],\n",
       "       [0., 0., 0., 0.],\n",
       "       [0., 0., 0., 0.],\n",
       "       [0., 0., 0., 0.],\n",
       "       [0., 0., 0., 0.],\n",
       "       [0., 0., 0., 0.],\n",
       "       [0., 0., 0., 0.],\n",
       "       [0., 0., 0., 0.],\n",
       "       [0., 0., 0., 0.],\n",
       "       [0., 0., 0., 0.],\n",
       "       [0., 0., 0., 0.],\n",
       "       [0., 0., 0., 0.],\n",
       "       [0., 0., 0., 0.],\n",
       "       [0., 0., 0., 0.],\n",
       "       [0., 0., 0., 0.],\n",
       "       [0., 0., 0., 0.],\n",
       "       [0., 0., 0., 0.],\n",
       "       [0., 0., 0., 0.],\n",
       "       [0., 0., 0., 0.],\n",
       "       [0., 0., 0., 0.],\n",
       "       [0., 0., 0., 0.],\n",
       "       [0., 0., 0., 0.],\n",
       "       [0., 0., 0., 0.],\n",
       "       [0., 0., 0., 0.],\n",
       "       [0., 0., 0., 0.],\n",
       "       [0., 0., 0., 0.],\n",
       "       [0., 0., 0., 0.],\n",
       "       [0., 0., 0., 0.],\n",
       "       [0., 0., 0., 0.],\n",
       "       [0., 0., 0., 0.],\n",
       "       [0., 0., 0., 0.],\n",
       "       [0., 0., 0., 0.],\n",
       "       [0., 0., 0., 0.],\n",
       "       [0., 0., 0., 0.],\n",
       "       [0., 0., 0., 0.],\n",
       "       [0., 0., 0., 0.],\n",
       "       [0., 0., 0., 0.],\n",
       "       [0., 0., 0., 0.],\n",
       "       [0., 0., 0., 0.],\n",
       "       [0., 0., 0., 0.],\n",
       "       [0., 0., 0., 0.],\n",
       "       [0., 0., 0., 0.],\n",
       "       [0., 0., 0., 0.],\n",
       "       [0., 0., 0., 0.],\n",
       "       [0., 0., 0., 0.],\n",
       "       [0., 0., 0., 0.],\n",
       "       [0., 0., 0., 0.],\n",
       "       [0., 0., 0., 0.],\n",
       "       [0., 0., 0., 0.],\n",
       "       [0., 0., 0., 0.],\n",
       "       [0., 0., 0., 0.],\n",
       "       [0., 0., 0., 0.],\n",
       "       [0., 0., 0., 0.],\n",
       "       [0., 0., 0., 0.],\n",
       "       [0., 0., 0., 0.],\n",
       "       [0., 0., 0., 0.],\n",
       "       [0., 0., 0., 0.],\n",
       "       [0., 0., 0., 0.],\n",
       "       [0., 0., 0., 0.],\n",
       "       [0., 0., 0., 0.],\n",
       "       [0., 0., 0., 0.],\n",
       "       [0., 0., 0., 0.],\n",
       "       [0., 0., 0., 0.],\n",
       "       [0., 0., 0., 0.],\n",
       "       [0., 0., 0., 0.],\n",
       "       [0., 0., 0., 0.],\n",
       "       [0., 0., 0., 0.],\n",
       "       [0., 0., 0., 0.],\n",
       "       [0., 0., 0., 0.],\n",
       "       [0., 0., 0., 0.],\n",
       "       [0., 0., 0., 0.],\n",
       "       [0., 0., 0., 0.],\n",
       "       [0., 0., 0., 0.],\n",
       "       [0., 0., 0., 0.],\n",
       "       [0., 0., 0., 0.],\n",
       "       [0., 0., 0., 0.],\n",
       "       [0., 0., 0., 0.],\n",
       "       [0., 0., 0., 0.],\n",
       "       [0., 0., 0., 0.],\n",
       "       [0., 0., 0., 0.],\n",
       "       [0., 0., 0., 0.],\n",
       "       [0., 0., 0., 0.],\n",
       "       [0., 0., 0., 0.],\n",
       "       [0., 0., 0., 0.],\n",
       "       [0., 0., 0., 0.],\n",
       "       [0., 0., 0., 0.],\n",
       "       [0., 0., 0., 0.],\n",
       "       [0., 0., 0., 0.],\n",
       "       [0., 0., 0., 0.],\n",
       "       [0., 0., 0., 0.],\n",
       "       [0., 0., 0., 0.],\n",
       "       [0., 0., 0., 0.],\n",
       "       [0., 0., 0., 0.],\n",
       "       [0., 0., 0., 0.],\n",
       "       [0., 0., 0., 0.],\n",
       "       [0., 0., 0., 0.],\n",
       "       [0., 0., 0., 0.],\n",
       "       [0., 0., 0., 0.],\n",
       "       [0., 0., 0., 0.],\n",
       "       [0., 0., 0., 0.],\n",
       "       [0., 0., 0., 0.],\n",
       "       [0., 0., 0., 0.],\n",
       "       [0., 0., 0., 0.],\n",
       "       [0., 0., 0., 0.],\n",
       "       [0., 0., 0., 0.],\n",
       "       [0., 0., 0., 0.],\n",
       "       [0., 0., 0., 0.],\n",
       "       [0., 0., 0., 0.],\n",
       "       [0., 0., 0., 0.],\n",
       "       [0., 0., 0., 0.],\n",
       "       [0., 0., 0., 0.],\n",
       "       [0., 0., 0., 0.],\n",
       "       [0., 0., 0., 0.],\n",
       "       [0., 0., 0., 0.],\n",
       "       [0., 0., 0., 0.],\n",
       "       [0., 0., 0., 0.],\n",
       "       [0., 0., 0., 0.],\n",
       "       [0., 0., 0., 0.]])"
      ]
     },
     "execution_count": 55,
     "metadata": {},
     "output_type": "execute_result"
    }
   ],
   "source": [
    "predictions = np.zeros((X_test.shape))\n",
    "predictions"
   ]
  },
  {
   "cell_type": "code",
   "execution_count": 56,
   "metadata": {
    "id": "h48f2lZj-E4m"
   },
   "outputs": [],
   "source": [
    "y_test = y_test.to_numpy()"
   ]
  },
  {
   "cell_type": "code",
   "execution_count": 57,
   "metadata": {
    "colab": {
     "base_uri": "https://localhost:8080/"
    },
    "id": "VVaITJMKh2k0",
    "outputId": "972d64c8-5dce-4bed-c7ef-6da25dd24a82"
   },
   "outputs": [
    {
     "data": {
      "text/plain": [
       "numpy.ndarray"
      ]
     },
     "execution_count": 57,
     "metadata": {},
     "output_type": "execute_result"
    }
   ],
   "source": [
    "type(y_test)"
   ]
  },
  {
   "cell_type": "markdown",
   "metadata": {
    "id": "YYPyCPhUvyQt"
   },
   "source": [
    "### Test Data Performance"
   ]
  },
  {
   "cell_type": "code",
   "execution_count": 58,
   "metadata": {
    "colab": {
     "base_uri": "https://localhost:8080/"
    },
    "id": "k_wkfJNt5_Aw",
    "outputId": "cc33ba0e-b737-475c-92d5-6d79792bbb4b"
   },
   "outputs": [
    {
     "data": {
      "text/plain": [
       "array([[0.9999835],\n",
       "       [0.9999835],\n",
       "       [0.9999835],\n",
       "       [0.9999835],\n",
       "       [0.9999835],\n",
       "       [0.9999835],\n",
       "       [0.9999835],\n",
       "       [0.9999835],\n",
       "       [0.9999835],\n",
       "       [0.9999835],\n",
       "       [0.9999835],\n",
       "       [0.9999835],\n",
       "       [0.9999835],\n",
       "       [0.9999835],\n",
       "       [0.9999835],\n",
       "       [0.9999835],\n",
       "       [0.9999835],\n",
       "       [0.9999835],\n",
       "       [0.9999835],\n",
       "       [0.9999835],\n",
       "       [0.9999835],\n",
       "       [0.9999835],\n",
       "       [0.9999835],\n",
       "       [0.9999835],\n",
       "       [0.9999835],\n",
       "       [0.9999835],\n",
       "       [0.9999835],\n",
       "       [0.9999835],\n",
       "       [0.9999835],\n",
       "       [0.9999835],\n",
       "       [0.9999835],\n",
       "       [0.9999835],\n",
       "       [0.9999835],\n",
       "       [0.9999835],\n",
       "       [0.9999835],\n",
       "       [0.9999835],\n",
       "       [0.9999835],\n",
       "       [0.9999835],\n",
       "       [0.9999835],\n",
       "       [0.9999835],\n",
       "       [0.9999835],\n",
       "       [0.9999835],\n",
       "       [0.9999835],\n",
       "       [0.9999835],\n",
       "       [0.9999835],\n",
       "       [0.9999835],\n",
       "       [0.9999835],\n",
       "       [0.9999835],\n",
       "       [0.9999835],\n",
       "       [0.9999835],\n",
       "       [0.9999835],\n",
       "       [0.9999835],\n",
       "       [0.9999835],\n",
       "       [0.9999835],\n",
       "       [0.9999835],\n",
       "       [0.9999835],\n",
       "       [0.9999835],\n",
       "       [0.9999835],\n",
       "       [0.9999835],\n",
       "       [0.9999835],\n",
       "       [0.9999835],\n",
       "       [0.9999835],\n",
       "       [0.9999835],\n",
       "       [0.9999835],\n",
       "       [0.9999835],\n",
       "       [0.9999835],\n",
       "       [0.9999835],\n",
       "       [0.9999835],\n",
       "       [0.9999835],\n",
       "       [0.9999835],\n",
       "       [0.9999835],\n",
       "       [0.9999835],\n",
       "       [0.9999835],\n",
       "       [0.9999835],\n",
       "       [0.9999835],\n",
       "       [0.9999835],\n",
       "       [0.9999835],\n",
       "       [0.9999835],\n",
       "       [0.9999835],\n",
       "       [0.9999835],\n",
       "       [0.9999835],\n",
       "       [0.9999835],\n",
       "       [0.9999835],\n",
       "       [0.9999835],\n",
       "       [0.9999835],\n",
       "       [0.9999835],\n",
       "       [0.9999835],\n",
       "       [0.9999835],\n",
       "       [0.9999835],\n",
       "       [0.9999835],\n",
       "       [0.9999835],\n",
       "       [0.9999835],\n",
       "       [0.9999835],\n",
       "       [0.9999835],\n",
       "       [0.9999835],\n",
       "       [0.9999835],\n",
       "       [0.9999835],\n",
       "       [0.9999835],\n",
       "       [0.9999835],\n",
       "       [0.9999835],\n",
       "       [0.9999835],\n",
       "       [0.9999835],\n",
       "       [0.9999835],\n",
       "       [0.9999835],\n",
       "       [0.9999835],\n",
       "       [0.9999835],\n",
       "       [0.9999835],\n",
       "       [0.9999835],\n",
       "       [0.9999835],\n",
       "       [0.9999835],\n",
       "       [0.9999835],\n",
       "       [0.9999835],\n",
       "       [0.9999835],\n",
       "       [0.9999835],\n",
       "       [0.9999835],\n",
       "       [0.9999835],\n",
       "       [0.9999835],\n",
       "       [0.9999835],\n",
       "       [0.9999835],\n",
       "       [0.9999835],\n",
       "       [0.9999835],\n",
       "       [0.9999835],\n",
       "       [0.9999835],\n",
       "       [0.9999835],\n",
       "       [0.9999835],\n",
       "       [0.9999835],\n",
       "       [0.9999835],\n",
       "       [0.9999835],\n",
       "       [0.9999835],\n",
       "       [0.9999835],\n",
       "       [0.9999835],\n",
       "       [0.9999835],\n",
       "       [0.9999835],\n",
       "       [0.9999835],\n",
       "       [0.9999835],\n",
       "       [0.9999835],\n",
       "       [0.9999835],\n",
       "       [0.9999835],\n",
       "       [0.9999835],\n",
       "       [0.9999835],\n",
       "       [0.9999835],\n",
       "       [0.9999835],\n",
       "       [0.9999835],\n",
       "       [0.9999835],\n",
       "       [0.9999835],\n",
       "       [0.9999835],\n",
       "       [0.9999835],\n",
       "       [0.9999835],\n",
       "       [0.9999835],\n",
       "       [0.9999835],\n",
       "       [0.9999835],\n",
       "       [0.9999835],\n",
       "       [0.9999835],\n",
       "       [0.9999835],\n",
       "       [0.9999835],\n",
       "       [0.9999835],\n",
       "       [0.9999835],\n",
       "       [0.9999835],\n",
       "       [0.9999835],\n",
       "       [0.9999835],\n",
       "       [0.9999835],\n",
       "       [0.9999835],\n",
       "       [0.9999835],\n",
       "       [0.9999835],\n",
       "       [0.9999835],\n",
       "       [0.9999835]], dtype=float32)"
      ]
     },
     "execution_count": 58,
     "metadata": {},
     "output_type": "execute_result"
    }
   ],
   "source": [
    "pred = model_1.predict(predictions)\n",
    "pred #Prediction is 99%"
   ]
  },
  {
   "cell_type": "markdown",
   "metadata": {},
   "source": [
    "### Making a Single Prediction"
   ]
  },
  {
   "cell_type": "code",
   "execution_count": 93,
   "metadata": {
    "colab": {
     "base_uri": "https://localhost:8080/"
    },
    "id": "VcsHiJExmpyk",
    "outputId": "d23e372a-5194-448f-a97f-9a3dd1806674"
   },
   "outputs": [
    {
     "name": "stdout",
     "output_type": "stream",
     "text": [
      "1/1 [==============================] - 0s 118ms/step - loss: 0.0000e+00 - accuracy: 0.0000e+00\n",
      "[0.0, 0.0]\n"
     ]
    }
   ],
   "source": [
    "print(model_1.evaluate(sc.transform([[0, 400, 0, 0]]))) # predicting line three of \"dataset\" with the classifier"
   ]
  },
  {
   "cell_type": "markdown",
   "metadata": {
    "id": "qq_E3GSp5_Az"
   },
   "source": [
    "## Data visualisation "
   ]
  },
  {
   "cell_type": "code",
   "execution_count": 60,
   "metadata": {
    "id": "I9rP-Huepz57"
   },
   "outputs": [],
   "source": [
    "new_dataset['threshold_reached'] = y_train"
   ]
  },
  {
   "cell_type": "code",
   "execution_count": 61,
   "metadata": {
    "colab": {
     "base_uri": "https://localhost:8080/",
     "height": 485
    },
    "id": "dafzlT5kvRbB",
    "outputId": "72f9c578-861c-44a4-f74e-8663d5dd69ee"
   },
   "outputs": [
    {
     "data": {
      "text/html": [
       "\n",
       "  <div id=\"df-467f3495-27f7-4feb-9f05-2c789a8b2961\">\n",
       "    <div class=\"colab-df-container\">\n",
       "      <div>\n",
       "<style scoped>\n",
       "    .dataframe tbody tr th:only-of-type {\n",
       "        vertical-align: middle;\n",
       "    }\n",
       "\n",
       "    .dataframe tbody tr th {\n",
       "        vertical-align: top;\n",
       "    }\n",
       "\n",
       "    .dataframe thead th {\n",
       "        text-align: right;\n",
       "    }\n",
       "</style>\n",
       "<table border=\"1\" class=\"dataframe\">\n",
       "  <thead>\n",
       "    <tr style=\"text-align: right;\">\n",
       "      <th></th>\n",
       "      <th>Alexandrium spp. \\ncells L-1\\n(PSP)</th>\n",
       "      <th>Pseudo-nitzschia spp. \\ncells L-1\\n(ASP)</th>\n",
       "      <th>Dinophysiaceae \\ncells L-1\\n(DSP)</th>\n",
       "      <th>Prorocentrum lima \\ncells L-1\\n(DSP)</th>\n",
       "      <th>threshold_reached</th>\n",
       "    </tr>\n",
       "  </thead>\n",
       "  <tbody>\n",
       "    <tr>\n",
       "      <th>0</th>\n",
       "      <td>0</td>\n",
       "      <td>0</td>\n",
       "      <td>0</td>\n",
       "      <td>0</td>\n",
       "      <td>0</td>\n",
       "    </tr>\n",
       "    <tr>\n",
       "      <th>1</th>\n",
       "      <td>0</td>\n",
       "      <td>0</td>\n",
       "      <td>0</td>\n",
       "      <td>0</td>\n",
       "      <td>0</td>\n",
       "    </tr>\n",
       "    <tr>\n",
       "      <th>2</th>\n",
       "      <td>0</td>\n",
       "      <td>400</td>\n",
       "      <td>0</td>\n",
       "      <td>0</td>\n",
       "      <td>0</td>\n",
       "    </tr>\n",
       "    <tr>\n",
       "      <th>3</th>\n",
       "      <td>0</td>\n",
       "      <td>0</td>\n",
       "      <td>0</td>\n",
       "      <td>0</td>\n",
       "      <td>0</td>\n",
       "    </tr>\n",
       "    <tr>\n",
       "      <th>4</th>\n",
       "      <td>0</td>\n",
       "      <td>0</td>\n",
       "      <td>0</td>\n",
       "      <td>0</td>\n",
       "      <td>0</td>\n",
       "    </tr>\n",
       "    <tr>\n",
       "      <th>...</th>\n",
       "      <td>...</td>\n",
       "      <td>...</td>\n",
       "      <td>...</td>\n",
       "      <td>...</td>\n",
       "      <td>...</td>\n",
       "    </tr>\n",
       "    <tr>\n",
       "      <th>1461</th>\n",
       "      <td>0</td>\n",
       "      <td>51</td>\n",
       "      <td>222</td>\n",
       "      <td>0</td>\n",
       "      <td>1</td>\n",
       "    </tr>\n",
       "    <tr>\n",
       "      <th>1462</th>\n",
       "      <td>21</td>\n",
       "      <td>400</td>\n",
       "      <td>145</td>\n",
       "      <td>0</td>\n",
       "      <td>1</td>\n",
       "    </tr>\n",
       "    <tr>\n",
       "      <th>1463</th>\n",
       "      <td>0</td>\n",
       "      <td>0</td>\n",
       "      <td>391</td>\n",
       "      <td>0</td>\n",
       "      <td>1</td>\n",
       "    </tr>\n",
       "    <tr>\n",
       "      <th>1464</th>\n",
       "      <td>0</td>\n",
       "      <td>0</td>\n",
       "      <td>200</td>\n",
       "      <td>0</td>\n",
       "      <td>1</td>\n",
       "    </tr>\n",
       "    <tr>\n",
       "      <th>1465</th>\n",
       "      <td>51</td>\n",
       "      <td>181353</td>\n",
       "      <td>0</td>\n",
       "      <td>0</td>\n",
       "      <td>1</td>\n",
       "    </tr>\n",
       "  </tbody>\n",
       "</table>\n",
       "<p>1466 rows × 5 columns</p>\n",
       "</div>\n",
       "      <button class=\"colab-df-convert\" onclick=\"convertToInteractive('df-467f3495-27f7-4feb-9f05-2c789a8b2961')\"\n",
       "              title=\"Convert this dataframe to an interactive table.\"\n",
       "              style=\"display:none;\">\n",
       "        \n",
       "  <svg xmlns=\"http://www.w3.org/2000/svg\" height=\"24px\"viewBox=\"0 0 24 24\"\n",
       "       width=\"24px\">\n",
       "    <path d=\"M0 0h24v24H0V0z\" fill=\"none\"/>\n",
       "    <path d=\"M18.56 5.44l.94 2.06.94-2.06 2.06-.94-2.06-.94-.94-2.06-.94 2.06-2.06.94zm-11 1L8.5 8.5l.94-2.06 2.06-.94-2.06-.94L8.5 2.5l-.94 2.06-2.06.94zm10 10l.94 2.06.94-2.06 2.06-.94-2.06-.94-.94-2.06-.94 2.06-2.06.94z\"/><path d=\"M17.41 7.96l-1.37-1.37c-.4-.4-.92-.59-1.43-.59-.52 0-1.04.2-1.43.59L10.3 9.45l-7.72 7.72c-.78.78-.78 2.05 0 2.83L4 21.41c.39.39.9.59 1.41.59.51 0 1.02-.2 1.41-.59l7.78-7.78 2.81-2.81c.8-.78.8-2.07 0-2.86zM5.41 20L4 18.59l7.72-7.72 1.47 1.35L5.41 20z\"/>\n",
       "  </svg>\n",
       "      </button>\n",
       "      \n",
       "  <style>\n",
       "    .colab-df-container {\n",
       "      display:flex;\n",
       "      flex-wrap:wrap;\n",
       "      gap: 12px;\n",
       "    }\n",
       "\n",
       "    .colab-df-convert {\n",
       "      background-color: #E8F0FE;\n",
       "      border: none;\n",
       "      border-radius: 50%;\n",
       "      cursor: pointer;\n",
       "      display: none;\n",
       "      fill: #1967D2;\n",
       "      height: 32px;\n",
       "      padding: 0 0 0 0;\n",
       "      width: 32px;\n",
       "    }\n",
       "\n",
       "    .colab-df-convert:hover {\n",
       "      background-color: #E2EBFA;\n",
       "      box-shadow: 0px 1px 2px rgba(60, 64, 67, 0.3), 0px 1px 3px 1px rgba(60, 64, 67, 0.15);\n",
       "      fill: #174EA6;\n",
       "    }\n",
       "\n",
       "    [theme=dark] .colab-df-convert {\n",
       "      background-color: #3B4455;\n",
       "      fill: #D2E3FC;\n",
       "    }\n",
       "\n",
       "    [theme=dark] .colab-df-convert:hover {\n",
       "      background-color: #434B5C;\n",
       "      box-shadow: 0px 1px 3px 1px rgba(0, 0, 0, 0.15);\n",
       "      filter: drop-shadow(0px 1px 2px rgba(0, 0, 0, 0.3));\n",
       "      fill: #FFFFFF;\n",
       "    }\n",
       "  </style>\n",
       "\n",
       "      <script>\n",
       "        const buttonEl =\n",
       "          document.querySelector('#df-467f3495-27f7-4feb-9f05-2c789a8b2961 button.colab-df-convert');\n",
       "        buttonEl.style.display =\n",
       "          google.colab.kernel.accessAllowed ? 'block' : 'none';\n",
       "\n",
       "        async function convertToInteractive(key) {\n",
       "          const element = document.querySelector('#df-467f3495-27f7-4feb-9f05-2c789a8b2961');\n",
       "          const dataTable =\n",
       "            await google.colab.kernel.invokeFunction('convertToInteractive',\n",
       "                                                     [key], {});\n",
       "          if (!dataTable) return;\n",
       "\n",
       "          const docLinkHtml = 'Like what you see? Visit the ' +\n",
       "            '<a target=\"_blank\" href=https://colab.research.google.com/notebooks/data_table.ipynb>data table notebook</a>'\n",
       "            + ' to learn more about interactive tables.';\n",
       "          element.innerHTML = '';\n",
       "          dataTable['output_type'] = 'display_data';\n",
       "          await google.colab.output.renderOutput(dataTable, element);\n",
       "          const docLink = document.createElement('div');\n",
       "          docLink.innerHTML = docLinkHtml;\n",
       "          element.appendChild(docLink);\n",
       "        }\n",
       "      </script>\n",
       "    </div>\n",
       "  </div>\n",
       "  "
      ],
      "text/plain": [
       "0     Alexandrium spp. \\ncells L-1\\n(PSP)  ...  threshold_reached\n",
       "0                                       0  ...                  0\n",
       "1                                       0  ...                  0\n",
       "2                                       0  ...                  0\n",
       "3                                       0  ...                  0\n",
       "4                                       0  ...                  0\n",
       "...                                   ...  ...                ...\n",
       "1461                                    0  ...                  1\n",
       "1462                                   21  ...                  1\n",
       "1463                                    0  ...                  1\n",
       "1464                                    0  ...                  1\n",
       "1465                                   51  ...                  1\n",
       "\n",
       "[1466 rows x 5 columns]"
      ]
     },
     "execution_count": 61,
     "metadata": {},
     "output_type": "execute_result"
    }
   ],
   "source": [
    "new_dataset"
   ]
  },
  {
   "cell_type": "code",
   "execution_count": 62,
   "metadata": {
    "colab": {
     "base_uri": "https://localhost:8080/",
     "height": 558
    },
    "id": "VMgrSB6u5_Az",
    "outputId": "d3167830-48c2-4063-b982-acd129ccc693"
   },
   "outputs": [
    {
     "name": "stdout",
     "output_type": "stream",
     "text": [
      "0                                          Alexandrium spp. \\ncells L-1\\n(PSP)  ...  threshold_reached\n",
      "0                                                                               ...                   \n",
      "Alexandrium spp. \\ncells L-1\\n(PSP)                                   1.000000  ...           0.399763\n",
      "Pseudo-nitzschia spp. \\ncells L-1\\n(ASP)                             -0.019807  ...           0.226473\n",
      "Dinophysiaceae \\ncells L-1\\n(DSP)                                    -0.034920  ...           0.396349\n",
      "Prorocentrum lima \\ncells L-1\\n(DSP)                                 -0.038398  ...           0.096990\n",
      "threshold_reached                                                     0.399763  ...           1.000000\n",
      "\n",
      "[5 rows x 5 columns]\n"
     ]
    },
    {
     "data": {
      "image/png": "[encoded data removed]",
      "text/plain": [
       "<Figure size 432x288 with 2 Axes>"
      ]
     },
     "metadata": {},
     "output_type": "display_data"
    }
   ],
   "source": [
    "corrMatrix = new_dataset.corr()\n",
    "print (corrMatrix) \n",
    "ax = sns.heatmap(corrMatrix)"
   ]
  },
  {
   "cell_type": "markdown",
   "metadata": {
    "id": "uBUN7uDE5_Az"
   },
   "source": [
    "## Increasing Data Size"
   ]
  },
  {
   "cell_type": "markdown",
   "metadata": {
    "id": "dxdAIXtfwD1p"
   },
   "source": [
    "### Data Cleaning\n",
    "Adding three other attributes from the source dataset."
   ]
  },
  {
   "cell_type": "code",
   "execution_count": 95,
   "metadata": {
    "colab": {
     "base_uri": "https://localhost:8080/"
    },
    "id": "VfKtbgbY5_A0",
    "outputId": "e23441de-8da6-4fe9-c762-7c7bb84a4820"
   },
   "outputs": [
    {
     "data": {
      "text/plain": [
       "array(['ND', 'Unable to analyse, too much sediment', nan, '720', '300',\n",
       "       '40', -1], dtype=object)"
      ]
     },
     "execution_count": 95,
     "metadata": {},
     "output_type": "execute_result"
    }
   ],
   "source": [
    "df[\"Ligulodinium polyedrum \\ncells L-1\\n(Yessotoxin)\"].unique()"
   ]
  },
  {
   "cell_type": "code",
   "execution_count": 96,
   "metadata": {
    "colab": {
     "base_uri": "https://localhost:8080/"
    },
    "id": "OFirBHWV5_A0",
    "outputId": "47bdd7c1-e05d-41a1-d509-c93905794db0"
   },
   "outputs": [
    {
     "data": {
      "text/plain": [
       "array(['ND', 'Unable to analyse, too much sediment', '40', -1, '120'],\n",
       "      dtype=object)"
      ]
     },
     "execution_count": 96,
     "metadata": {},
     "output_type": "execute_result"
    }
   ],
   "source": [
    "df[\"Protoceratium reticulatum \\ncells L-1\\n(Yessotoxin) \"].unique()"
   ]
  },
  {
   "cell_type": "code",
   "execution_count": 97,
   "metadata": {
    "colab": {
     "base_uri": "https://localhost:8080/"
    },
    "id": "YtWr_PHG5_A0",
    "outputId": "8b518f7d-5da9-4949-ec69-5ae68af4f9ff"
   },
   "outputs": [
    {
     "data": {
      "text/plain": [
       "array(['ND', 'Unable to analyse, too much sediment', '40', '200', '100',\n",
       "       '80', '280', '160', '240', '300', '1000', '280000', '1200',\n",
       "       '1574000', -1, '4160', '760', '400', '120'], dtype=object)"
      ]
     },
     "execution_count": 97,
     "metadata": {},
     "output_type": "execute_result"
    }
   ],
   "source": [
    "df[\"Prorocentrum cordatum \\ncells L-1\\n(Venerupin) \"].unique()"
   ]
  },
  {
   "cell_type": "code",
   "execution_count": 98,
   "metadata": {
    "id": "RF3Rka3L5_A0"
   },
   "outputs": [],
   "source": [
    "df[\"Ligulodinium polyedrum \\ncells L-1\\n(Yessotoxin)\"].replace(['Unable to analyse, too much sediment', 'ND'], 0, inplace=True)\n",
    "df[\"Protoceratium reticulatum \\ncells L-1\\n(Yessotoxin) \"].replace(['Unable to analyse, too much sediment', 'ND'], 0, inplace=True)\n",
    "df[\"Prorocentrum cordatum \\ncells L-1\\n(Venerupin) \"].replace(['Unable to analyse, too much sediment', 'ND'], 0, inplace=True)"
   ]
  },
  {
   "cell_type": "code",
   "execution_count": 99,
   "metadata": {
    "id": "QVC85-gu5_A1"
   },
   "outputs": [],
   "source": [
    "df.loc[(df[\"Ligulodinium polyedrum \\ncells L-1\\n(Yessotoxin)\"].isna())] = -1 #replacing nan with -1\n",
    "df[\"Ligulodinium polyedrum \\ncells L-1\\n(Yessotoxin)\"] = df[\"Ligulodinium polyedrum \\ncells L-1\\n(Yessotoxin)\"].astype(int)\n",
    "df[\"Protoceratium reticulatum \\ncells L-1\\n(Yessotoxin) \"] = df[\"Protoceratium reticulatum \\ncells L-1\\n(Yessotoxin) \"].astype(int)\n",
    "df[\"Prorocentrum cordatum \\ncells L-1\\n(Venerupin) \"] = df[\"Prorocentrum cordatum \\ncells L-1\\n(Venerupin) \"].astype(int)"
   ]
  },
  {
   "cell_type": "markdown",
   "metadata": {
    "id": "4VNrYhHP5_A2"
   },
   "source": [
    "## Setting the New Threshold"
   ]
  },
  {
   "cell_type": "code",
   "execution_count": 100,
   "metadata": {
    "id": "FMtjD4iwyIBr"
   },
   "outputs": [],
   "source": [
    "i_dataset = df[[\"Alexandrium spp. \\ncells L-1\\n(PSP)\", \"Dinophysiaceae \\ncells L-1\\n(DSP)\", \n",
    "                \"Prorocentrum lima \\ncells L-1\\n(DSP)\", \"Pseudo-nitzschia spp. \\ncells L-1\\n(ASP) \", \n",
    "                'Ligulodinium polyedrum \\ncells L-1\\n(Yessotoxin)',\n",
    "                \"Protoceratium reticulatum \\ncells L-1\\n(Yessotoxin) \", \n",
    "                \"Prorocentrum cordatum \\ncells L-1\\n(Venerupin) \" ]]\n",
    "\n",
    "\n",
    "i_dataset = i_dataset.astype(int)\n",
    "\n",
    "\n",
    "i_dataset.insert(loc=0, column='Sample number', value=df['Sample number']) #insert Sample number at the first column[0]"
   ]
  },
  {
   "cell_type": "code",
   "execution_count": 101,
   "metadata": {
    "id": "1XDebZMN5_A2"
   },
   "outputs": [],
   "source": [
    "thresholds_2 = {\"Alexandrium spp. \\ncells L-1\\n(PSP)\" : 40, \"Dinophysiaceae \\ncells L-1\\n(DSP)\" : 100, \n",
    "                \"Prorocentrum lima \\ncells L-1\\n(DSP)\" : 100, \"Pseudo-nitzschia spp. \\ncells L-1\\n(ASP) \" : 150000, \n",
    "                'Ligulodinium polyedrum \\ncells L-1\\n(Yessotoxin)': 100,\n",
    "                \"Protoceratium reticulatum \\ncells L-1\\n(Yessotoxin) \" : 40, \n",
    "                \"Prorocentrum cordatum \\ncells L-1\\n(Venerupin) \" : 150000 }"
   ]
  },
  {
   "cell_type": "code",
   "execution_count": 102,
   "metadata": {
    "colab": {
     "base_uri": "https://localhost:8080/",
     "height": 537
    },
    "id": "KU4dg7Z4zh5I",
    "outputId": "f339c1a6-d32c-4b7f-cb57-bd15c0dfae0a"
   },
   "outputs": [
    {
     "data": {
      "text/html": [
       "<div>\n",
       "<style scoped>\n",
       "    .dataframe tbody tr th:only-of-type {\n",
       "        vertical-align: middle;\n",
       "    }\n",
       "\n",
       "    .dataframe tbody tr th {\n",
       "        vertical-align: top;\n",
       "    }\n",
       "\n",
       "    .dataframe thead th {\n",
       "        text-align: right;\n",
       "    }\n",
       "</style>\n",
       "<table border=\"1\" class=\"dataframe\">\n",
       "  <thead>\n",
       "    <tr style=\"text-align: right;\">\n",
       "      <th></th>\n",
       "      <th>Sample number</th>\n",
       "      <th>Alexandrium spp. \\ncells L-1\\n(PSP)</th>\n",
       "      <th>Dinophysiaceae \\ncells L-1\\n(DSP)</th>\n",
       "      <th>Prorocentrum lima \\ncells L-1\\n(DSP)</th>\n",
       "      <th>Pseudo-nitzschia spp. \\ncells L-1\\n(ASP)</th>\n",
       "      <th>Ligulodinium polyedrum \\ncells L-1\\n(Yessotoxin)</th>\n",
       "      <th>Protoceratium reticulatum \\ncells L-1\\n(Yessotoxin)</th>\n",
       "      <th>Prorocentrum cordatum \\ncells L-1\\n(Venerupin)</th>\n",
       "    </tr>\n",
       "  </thead>\n",
       "  <tbody>\n",
       "    <tr>\n",
       "      <th>1</th>\n",
       "      <td>Jan-21</td>\n",
       "      <td>0</td>\n",
       "      <td>0</td>\n",
       "      <td>0</td>\n",
       "      <td>0</td>\n",
       "      <td>0</td>\n",
       "      <td>0</td>\n",
       "      <td>0</td>\n",
       "    </tr>\n",
       "    <tr>\n",
       "      <th>2</th>\n",
       "      <td>Feb-21</td>\n",
       "      <td>0</td>\n",
       "      <td>0</td>\n",
       "      <td>0</td>\n",
       "      <td>0</td>\n",
       "      <td>0</td>\n",
       "      <td>0</td>\n",
       "      <td>0</td>\n",
       "    </tr>\n",
       "    <tr>\n",
       "      <th>3</th>\n",
       "      <td>Mar-21</td>\n",
       "      <td>0</td>\n",
       "      <td>0</td>\n",
       "      <td>0</td>\n",
       "      <td>400</td>\n",
       "      <td>0</td>\n",
       "      <td>0</td>\n",
       "      <td>0</td>\n",
       "    </tr>\n",
       "    <tr>\n",
       "      <th>4</th>\n",
       "      <td>Apr-21</td>\n",
       "      <td>0</td>\n",
       "      <td>0</td>\n",
       "      <td>0</td>\n",
       "      <td>0</td>\n",
       "      <td>0</td>\n",
       "      <td>0</td>\n",
       "      <td>0</td>\n",
       "    </tr>\n",
       "    <tr>\n",
       "      <th>5</th>\n",
       "      <td>May-21</td>\n",
       "      <td>0</td>\n",
       "      <td>0</td>\n",
       "      <td>0</td>\n",
       "      <td>0</td>\n",
       "      <td>0</td>\n",
       "      <td>0</td>\n",
       "      <td>0</td>\n",
       "    </tr>\n",
       "    <tr>\n",
       "      <th>...</th>\n",
       "      <td>...</td>\n",
       "      <td>...</td>\n",
       "      <td>...</td>\n",
       "      <td>...</td>\n",
       "      <td>...</td>\n",
       "      <td>...</td>\n",
       "      <td>...</td>\n",
       "      <td>...</td>\n",
       "    </tr>\n",
       "    <tr>\n",
       "      <th>824</th>\n",
       "      <td>853/21</td>\n",
       "      <td>0</td>\n",
       "      <td>40</td>\n",
       "      <td>0</td>\n",
       "      <td>7080</td>\n",
       "      <td>0</td>\n",
       "      <td>0</td>\n",
       "      <td>0</td>\n",
       "    </tr>\n",
       "    <tr>\n",
       "      <th>825</th>\n",
       "      <td>854/21</td>\n",
       "      <td>0</td>\n",
       "      <td>0</td>\n",
       "      <td>0</td>\n",
       "      <td>0</td>\n",
       "      <td>0</td>\n",
       "      <td>0</td>\n",
       "      <td>0</td>\n",
       "    </tr>\n",
       "    <tr>\n",
       "      <th>826</th>\n",
       "      <td>855/21</td>\n",
       "      <td>0</td>\n",
       "      <td>40</td>\n",
       "      <td>0</td>\n",
       "      <td>0</td>\n",
       "      <td>0</td>\n",
       "      <td>0</td>\n",
       "      <td>0</td>\n",
       "    </tr>\n",
       "    <tr>\n",
       "      <th>827</th>\n",
       "      <td>856/21</td>\n",
       "      <td>0</td>\n",
       "      <td>0</td>\n",
       "      <td>0</td>\n",
       "      <td>0</td>\n",
       "      <td>0</td>\n",
       "      <td>0</td>\n",
       "      <td>0</td>\n",
       "    </tr>\n",
       "    <tr>\n",
       "      <th>828</th>\n",
       "      <td>857/21</td>\n",
       "      <td>0</td>\n",
       "      <td>0</td>\n",
       "      <td>0</td>\n",
       "      <td>0</td>\n",
       "      <td>0</td>\n",
       "      <td>0</td>\n",
       "      <td>0</td>\n",
       "    </tr>\n",
       "  </tbody>\n",
       "</table>\n",
       "<p>828 rows × 8 columns</p>\n",
       "</div>"
      ],
      "text/plain": [
       "0   Sample number  Alexandrium spp. \\ncells L-1\\n(PSP)  \\\n",
       "1          Jan-21                                    0   \n",
       "2          Feb-21                                    0   \n",
       "3          Mar-21                                    0   \n",
       "4          Apr-21                                    0   \n",
       "5          May-21                                    0   \n",
       "..            ...                                  ...   \n",
       "824        853/21                                    0   \n",
       "825        854/21                                    0   \n",
       "826        855/21                                    0   \n",
       "827        856/21                                    0   \n",
       "828        857/21                                    0   \n",
       "\n",
       "0    Dinophysiaceae \\ncells L-1\\n(DSP)  Prorocentrum lima \\ncells L-1\\n(DSP)  \\\n",
       "1                                    0                                     0   \n",
       "2                                    0                                     0   \n",
       "3                                    0                                     0   \n",
       "4                                    0                                     0   \n",
       "5                                    0                                     0   \n",
       "..                                 ...                                   ...   \n",
       "824                                 40                                     0   \n",
       "825                                  0                                     0   \n",
       "826                                 40                                     0   \n",
       "827                                  0                                     0   \n",
       "828                                  0                                     0   \n",
       "\n",
       "0    Pseudo-nitzschia spp. \\ncells L-1\\n(ASP)   \\\n",
       "1                                            0   \n",
       "2                                            0   \n",
       "3                                          400   \n",
       "4                                            0   \n",
       "5                                            0   \n",
       "..                                         ...   \n",
       "824                                       7080   \n",
       "825                                          0   \n",
       "826                                          0   \n",
       "827                                          0   \n",
       "828                                          0   \n",
       "\n",
       "0    Ligulodinium polyedrum \\ncells L-1\\n(Yessotoxin)  \\\n",
       "1                                                   0   \n",
       "2                                                   0   \n",
       "3                                                   0   \n",
       "4                                                   0   \n",
       "5                                                   0   \n",
       "..                                                ...   \n",
       "824                                                 0   \n",
       "825                                                 0   \n",
       "826                                                 0   \n",
       "827                                                 0   \n",
       "828                                                 0   \n",
       "\n",
       "0    Protoceratium reticulatum \\ncells L-1\\n(Yessotoxin)   \\\n",
       "1                                                    0      \n",
       "2                                                    0      \n",
       "3                                                    0      \n",
       "4                                                    0      \n",
       "5                                                    0      \n",
       "..                                                 ...      \n",
       "824                                                  0      \n",
       "825                                                  0      \n",
       "826                                                  0      \n",
       "827                                                  0      \n",
       "828                                                  0      \n",
       "\n",
       "0    Prorocentrum cordatum \\ncells L-1\\n(Venerupin)   \n",
       "1                                                  0  \n",
       "2                                                  0  \n",
       "3                                                  0  \n",
       "4                                                  0  \n",
       "5                                                  0  \n",
       "..                                               ...  \n",
       "824                                                0  \n",
       "825                                                0  \n",
       "826                                                0  \n",
       "827                                                0  \n",
       "828                                                0  \n",
       "\n",
       "[828 rows x 8 columns]"
      ]
     },
     "execution_count": 102,
     "metadata": {},
     "output_type": "execute_result"
    }
   ],
   "source": [
    "i_dataset"
   ]
  },
  {
   "cell_type": "code",
   "execution_count": 103,
   "metadata": {
    "id": "IG888Sel5_A2"
   },
   "outputs": [],
   "source": [
    "def check_thresholds_2(i_dataset):\n",
    "    t = []\n",
    "    for i,j in enumerate(i_dataset[\"Sample number\"]):\n",
    "        alexandrium = i_dataset.iloc[i][\"Alexandrium spp. \\ncells L-1\\n(PSP)\"]\n",
    "        pseudo_nitzschia = i_dataset.iloc[i][\"Pseudo-nitzschia spp. \\ncells L-1\\n(ASP) \"]\n",
    "        dinophysiaceae = i_dataset.iloc[i][\"Dinophysiaceae \\ncells L-1\\n(DSP)\"]\n",
    "        prorocentrum = i_dataset.iloc[i][\"Prorocentrum lima \\ncells L-1\\n(DSP)\"]\n",
    "        Ligulodinium_polyedrum = i_dataset.iloc[i]['Ligulodinium polyedrum \\ncells L-1\\n(Yessotoxin)']\n",
    "        Protoceratium_reticulatum = i_dataset.iloc[i][\"Protoceratium reticulatum \\ncells L-1\\n(Yessotoxin) \"]\n",
    "        Prorocentrum_cordatum = i_dataset.iloc[i][\"Prorocentrum cordatum \\ncells L-1\\n(Venerupin) \"]\n",
    "        \n",
    "        threshold_reached_2 = 0\n",
    "        if pseudo_nitzschia >= thresholds_2[\"Pseudo-nitzschia spp. \\ncells L-1\\n(ASP) \"]:\n",
    "            threshold_reached_2 = 1\n",
    "        elif dinophysiaceae >= thresholds_2[\"Dinophysiaceae \\ncells L-1\\n(DSP)\"]:\n",
    "            threshold_reached_2 = 1\n",
    "        elif prorocentrum >= thresholds_2[\"Prorocentrum lima \\ncells L-1\\n(DSP)\"]:\n",
    "            threshold_reached_2 = 1\n",
    "        elif alexandrium >= thresholds_2[\"Alexandrium spp. \\ncells L-1\\n(PSP)\"]:\n",
    "            threshold_reached_2 = 1\n",
    "        elif Ligulodinium_polyedrum >= thresholds_2['Ligulodinium polyedrum \\ncells L-1\\n(Yessotoxin)']:\n",
    "            threshold_reached_2 = 1\n",
    "        elif Protoceratium_reticulatum >= thresholds_2[\"Protoceratium reticulatum \\ncells L-1\\n(Yessotoxin) \"]:\n",
    "            threshold_reached_2 = 1\n",
    "        elif Prorocentrum_cordatum >= thresholds_2[\"Prorocentrum cordatum \\ncells L-1\\n(Venerupin) \"]:\n",
    "            threshold_reached_2 = 1\n",
    "        t.append(threshold_reached_2)\n",
    "    return t "
   ]
  },
  {
   "cell_type": "code",
   "execution_count": 104,
   "metadata": {
    "id": "rvBj9m9F5_A2"
   },
   "outputs": [],
   "source": [
    "thresholds_reached_2 = check_thresholds_2(i_dataset)\n",
    "i_dataset['thresholds_reached_2'] = thresholds_reached_2"
   ]
  },
  {
   "cell_type": "code",
   "execution_count": 105,
   "metadata": {
    "id": "nlf7S7bw5_A3"
   },
   "outputs": [],
   "source": [
    "pd.DataFrame.to_csv(df, 'thresholds_cleaned_2.csv', sep=',', index=False)"
   ]
  },
  {
   "cell_type": "code",
   "execution_count": 106,
   "metadata": {
    "colab": {
     "base_uri": "https://localhost:8080/",
     "height": 592
    },
    "id": "0m05yRi4104Q",
    "outputId": "7d9bfe4f-1b5b-41f8-d1b8-b024792bc147"
   },
   "outputs": [
    {
     "data": {
      "text/html": [
       "<div>\n",
       "<style scoped>\n",
       "    .dataframe tbody tr th:only-of-type {\n",
       "        vertical-align: middle;\n",
       "    }\n",
       "\n",
       "    .dataframe tbody tr th {\n",
       "        vertical-align: top;\n",
       "    }\n",
       "\n",
       "    .dataframe thead th {\n",
       "        text-align: right;\n",
       "    }\n",
       "</style>\n",
       "<table border=\"1\" class=\"dataframe\">\n",
       "  <thead>\n",
       "    <tr style=\"text-align: right;\">\n",
       "      <th></th>\n",
       "      <th>Sample number</th>\n",
       "      <th>Alexandrium spp. \\ncells L-1\\n(PSP)</th>\n",
       "      <th>Dinophysiaceae \\ncells L-1\\n(DSP)</th>\n",
       "      <th>Prorocentrum lima \\ncells L-1\\n(DSP)</th>\n",
       "      <th>Pseudo-nitzschia spp. \\ncells L-1\\n(ASP)</th>\n",
       "      <th>Ligulodinium polyedrum \\ncells L-1\\n(Yessotoxin)</th>\n",
       "      <th>Protoceratium reticulatum \\ncells L-1\\n(Yessotoxin)</th>\n",
       "      <th>Prorocentrum cordatum \\ncells L-1\\n(Venerupin)</th>\n",
       "      <th>thresholds_reached_2</th>\n",
       "    </tr>\n",
       "  </thead>\n",
       "  <tbody>\n",
       "    <tr>\n",
       "      <th>1</th>\n",
       "      <td>Jan-21</td>\n",
       "      <td>0</td>\n",
       "      <td>0</td>\n",
       "      <td>0</td>\n",
       "      <td>0</td>\n",
       "      <td>0</td>\n",
       "      <td>0</td>\n",
       "      <td>0</td>\n",
       "      <td>0</td>\n",
       "    </tr>\n",
       "    <tr>\n",
       "      <th>2</th>\n",
       "      <td>Feb-21</td>\n",
       "      <td>0</td>\n",
       "      <td>0</td>\n",
       "      <td>0</td>\n",
       "      <td>0</td>\n",
       "      <td>0</td>\n",
       "      <td>0</td>\n",
       "      <td>0</td>\n",
       "      <td>0</td>\n",
       "    </tr>\n",
       "    <tr>\n",
       "      <th>3</th>\n",
       "      <td>Mar-21</td>\n",
       "      <td>0</td>\n",
       "      <td>0</td>\n",
       "      <td>0</td>\n",
       "      <td>400</td>\n",
       "      <td>0</td>\n",
       "      <td>0</td>\n",
       "      <td>0</td>\n",
       "      <td>0</td>\n",
       "    </tr>\n",
       "    <tr>\n",
       "      <th>4</th>\n",
       "      <td>Apr-21</td>\n",
       "      <td>0</td>\n",
       "      <td>0</td>\n",
       "      <td>0</td>\n",
       "      <td>0</td>\n",
       "      <td>0</td>\n",
       "      <td>0</td>\n",
       "      <td>0</td>\n",
       "      <td>0</td>\n",
       "    </tr>\n",
       "    <tr>\n",
       "      <th>5</th>\n",
       "      <td>May-21</td>\n",
       "      <td>0</td>\n",
       "      <td>0</td>\n",
       "      <td>0</td>\n",
       "      <td>0</td>\n",
       "      <td>0</td>\n",
       "      <td>0</td>\n",
       "      <td>0</td>\n",
       "      <td>0</td>\n",
       "    </tr>\n",
       "    <tr>\n",
       "      <th>...</th>\n",
       "      <td>...</td>\n",
       "      <td>...</td>\n",
       "      <td>...</td>\n",
       "      <td>...</td>\n",
       "      <td>...</td>\n",
       "      <td>...</td>\n",
       "      <td>...</td>\n",
       "      <td>...</td>\n",
       "      <td>...</td>\n",
       "    </tr>\n",
       "    <tr>\n",
       "      <th>824</th>\n",
       "      <td>853/21</td>\n",
       "      <td>0</td>\n",
       "      <td>40</td>\n",
       "      <td>0</td>\n",
       "      <td>7080</td>\n",
       "      <td>0</td>\n",
       "      <td>0</td>\n",
       "      <td>0</td>\n",
       "      <td>0</td>\n",
       "    </tr>\n",
       "    <tr>\n",
       "      <th>825</th>\n",
       "      <td>854/21</td>\n",
       "      <td>0</td>\n",
       "      <td>0</td>\n",
       "      <td>0</td>\n",
       "      <td>0</td>\n",
       "      <td>0</td>\n",
       "      <td>0</td>\n",
       "      <td>0</td>\n",
       "      <td>0</td>\n",
       "    </tr>\n",
       "    <tr>\n",
       "      <th>826</th>\n",
       "      <td>855/21</td>\n",
       "      <td>0</td>\n",
       "      <td>40</td>\n",
       "      <td>0</td>\n",
       "      <td>0</td>\n",
       "      <td>0</td>\n",
       "      <td>0</td>\n",
       "      <td>0</td>\n",
       "      <td>0</td>\n",
       "    </tr>\n",
       "    <tr>\n",
       "      <th>827</th>\n",
       "      <td>856/21</td>\n",
       "      <td>0</td>\n",
       "      <td>0</td>\n",
       "      <td>0</td>\n",
       "      <td>0</td>\n",
       "      <td>0</td>\n",
       "      <td>0</td>\n",
       "      <td>0</td>\n",
       "      <td>0</td>\n",
       "    </tr>\n",
       "    <tr>\n",
       "      <th>828</th>\n",
       "      <td>857/21</td>\n",
       "      <td>0</td>\n",
       "      <td>0</td>\n",
       "      <td>0</td>\n",
       "      <td>0</td>\n",
       "      <td>0</td>\n",
       "      <td>0</td>\n",
       "      <td>0</td>\n",
       "      <td>0</td>\n",
       "    </tr>\n",
       "  </tbody>\n",
       "</table>\n",
       "<p>828 rows × 9 columns</p>\n",
       "</div>"
      ],
      "text/plain": [
       "0   Sample number  Alexandrium spp. \\ncells L-1\\n(PSP)  \\\n",
       "1          Jan-21                                    0   \n",
       "2          Feb-21                                    0   \n",
       "3          Mar-21                                    0   \n",
       "4          Apr-21                                    0   \n",
       "5          May-21                                    0   \n",
       "..            ...                                  ...   \n",
       "824        853/21                                    0   \n",
       "825        854/21                                    0   \n",
       "826        855/21                                    0   \n",
       "827        856/21                                    0   \n",
       "828        857/21                                    0   \n",
       "\n",
       "0    Dinophysiaceae \\ncells L-1\\n(DSP)  Prorocentrum lima \\ncells L-1\\n(DSP)  \\\n",
       "1                                    0                                     0   \n",
       "2                                    0                                     0   \n",
       "3                                    0                                     0   \n",
       "4                                    0                                     0   \n",
       "5                                    0                                     0   \n",
       "..                                 ...                                   ...   \n",
       "824                                 40                                     0   \n",
       "825                                  0                                     0   \n",
       "826                                 40                                     0   \n",
       "827                                  0                                     0   \n",
       "828                                  0                                     0   \n",
       "\n",
       "0    Pseudo-nitzschia spp. \\ncells L-1\\n(ASP)   \\\n",
       "1                                            0   \n",
       "2                                            0   \n",
       "3                                          400   \n",
       "4                                            0   \n",
       "5                                            0   \n",
       "..                                         ...   \n",
       "824                                       7080   \n",
       "825                                          0   \n",
       "826                                          0   \n",
       "827                                          0   \n",
       "828                                          0   \n",
       "\n",
       "0    Ligulodinium polyedrum \\ncells L-1\\n(Yessotoxin)  \\\n",
       "1                                                   0   \n",
       "2                                                   0   \n",
       "3                                                   0   \n",
       "4                                                   0   \n",
       "5                                                   0   \n",
       "..                                                ...   \n",
       "824                                                 0   \n",
       "825                                                 0   \n",
       "826                                                 0   \n",
       "827                                                 0   \n",
       "828                                                 0   \n",
       "\n",
       "0    Protoceratium reticulatum \\ncells L-1\\n(Yessotoxin)   \\\n",
       "1                                                    0      \n",
       "2                                                    0      \n",
       "3                                                    0      \n",
       "4                                                    0      \n",
       "5                                                    0      \n",
       "..                                                 ...      \n",
       "824                                                  0      \n",
       "825                                                  0      \n",
       "826                                                  0      \n",
       "827                                                  0      \n",
       "828                                                  0      \n",
       "\n",
       "0    Prorocentrum cordatum \\ncells L-1\\n(Venerupin)   thresholds_reached_2  \n",
       "1                                                  0                     0  \n",
       "2                                                  0                     0  \n",
       "3                                                  0                     0  \n",
       "4                                                  0                     0  \n",
       "5                                                  0                     0  \n",
       "..                                               ...                   ...  \n",
       "824                                                0                     0  \n",
       "825                                                0                     0  \n",
       "826                                                0                     0  \n",
       "827                                                0                     0  \n",
       "828                                                0                     0  \n",
       "\n",
       "[828 rows x 9 columns]"
      ]
     },
     "execution_count": 106,
     "metadata": {},
     "output_type": "execute_result"
    }
   ],
   "source": [
    "i_dataset"
   ]
  },
  {
   "cell_type": "code",
   "execution_count": 107,
   "metadata": {
    "colab": {
     "base_uri": "https://localhost:8080/"
    },
    "id": "S6ZUJT472oPJ",
    "outputId": "078c19ff-95cf-4856-a096-d75c8c10db6a"
   },
   "outputs": [
    {
     "name": "stdout",
     "output_type": "stream",
     "text": [
      "102\n",
      "726\n"
     ]
    }
   ],
   "source": [
    "print(len(i_dataset[i_dataset['thresholds_reached_2']==1]))\n",
    "print(len(i_dataset[i_dataset['thresholds_reached_2']==0]))"
   ]
  },
  {
   "cell_type": "markdown",
   "metadata": {
    "id": "apODnirF3Bsm"
   },
   "source": [
    "BarPlot Before Oversampling"
   ]
  },
  {
   "cell_type": "code",
   "execution_count": 108,
   "metadata": {
    "colab": {
     "base_uri": "https://localhost:8080/",
     "height": 301
    },
    "id": "yUhI870E3A2n",
    "outputId": "306a82b2-a2f0-4344-9833-ca1613428d4e"
   },
   "outputs": [
    {
     "data": {
      "image/png": "[encoded data removed]",
      "text/plain": [
       "<Figure size 432x288 with 1 Axes>"
      ]
     },
     "metadata": {},
     "output_type": "display_data"
    }
   ],
   "source": [
    "sns.set_theme(style=\"whitegrid\")\n",
    "plt.title('Before Oversampling')\n",
    "sns.countplot(data = i_dataset, x= \"thresholds_reached_2\")\n",
    "plt.show()"
   ]
  },
  {
   "cell_type": "code",
   "execution_count": 109,
   "metadata": {
    "id": "kwuggJln5_A4"
   },
   "outputs": [],
   "source": [
    "xx = i_dataset.iloc[0:829, 1:7]\n",
    "yy = i_dataset.iloc[:, -1]"
   ]
  },
  {
   "cell_type": "code",
   "execution_count": 110,
   "metadata": {
    "id": "W7xdvyHq5_A4"
   },
   "outputs": [],
   "source": [
    "xx_train, xx_test, yy_train, yy_test = train_test_split(xx, yy, test_size=0.20, random_state=42)"
   ]
  },
  {
   "cell_type": "markdown",
   "metadata": {
    "id": "PSH-buY14ZzX"
   },
   "source": [
    "Oversampling and balancing"
   ]
  },
  {
   "cell_type": "code",
   "execution_count": 111,
   "metadata": {
    "id": "Swtn3I7G4X7V"
   },
   "outputs": [],
   "source": [
    "sm = SMOTE(random_state = 2) \n",
    "xx_train, yy_train = sm.fit_resample(xx, yy.ravel())"
   ]
  },
  {
   "cell_type": "code",
   "execution_count": 112,
   "metadata": {
    "colab": {
     "base_uri": "https://localhost:8080/"
    },
    "id": "S4oXDHLD4tn2",
    "outputId": "b87b911c-8298-4c34-ef39-ff64c09b3a70"
   },
   "outputs": [
    {
     "name": "stdout",
     "output_type": "stream",
     "text": [
      "After OverSampling, the shape of train_X: (1452, 6)\n",
      "After OverSampling, the shape of train_y: (1452,) \n",
      "\n"
     ]
    }
   ],
   "source": [
    "print('After OverSampling, the shape of train_X: {}'.format(xx_train.shape)) \n",
    "print('After OverSampling, the shape of train_y: {} \\n'.format(yy_train.shape)) "
   ]
  },
  {
   "cell_type": "code",
   "execution_count": 113,
   "metadata": {
    "colab": {
     "base_uri": "https://localhost:8080/"
    },
    "id": "yD-4fmaU41jT",
    "outputId": "2a845d40-f940-4c4c-ff89-bcc8e10f020e"
   },
   "outputs": [
    {
     "name": "stdout",
     "output_type": "stream",
     "text": [
      "label '1' count after oversampling: 726\n",
      "label '0' count after oversampling: 726\n"
     ]
    }
   ],
   "source": [
    "print(\"label '1' count after oversampling: {}\".format(sum(yy_train == 1))) \n",
    "print(\"label '0' count after oversampling: {}\".format(sum(yy_train == 0))) "
   ]
  },
  {
   "cell_type": "code",
   "execution_count": 114,
   "metadata": {
    "id": "85wpiUin412J"
   },
   "outputs": [],
   "source": [
    "new_i_dataset = xx_train\n",
    "new_i_dataset['threshold_reached_2'] = yy_train"
   ]
  },
  {
   "cell_type": "code",
   "execution_count": 115,
   "metadata": {
    "colab": {
     "base_uri": "https://localhost:8080/",
     "height": 301
    },
    "id": "tHeZthkc418_",
    "outputId": "50170f01-457d-4c62-9bc1-9720743fefa7"
   },
   "outputs": [
    {
     "data": {
      "image/png": "[encoded data removed]",
      "text/plain": [
       "<Figure size 432x288 with 1 Axes>"
      ]
     },
     "metadata": {},
     "output_type": "display_data"
    }
   ],
   "source": [
    "sns.set_theme(style=\"whitegrid\")\n",
    "plt.title('After Oversampling')\n",
    "sns.countplot(data = new_i_dataset, x= \"threshold_reached_2\")\n",
    "plt.show()"
   ]
  },
  {
   "cell_type": "markdown",
   "metadata": {
    "id": "aW1TQQzz7Qaz"
   },
   "source": [
    "### Feature Scaling"
   ]
  },
  {
   "cell_type": "code",
   "execution_count": 116,
   "metadata": {
    "id": "v5UTQod465T3"
   },
   "outputs": [],
   "source": [
    "del xx_train['threshold_reached_2'] # removed temporarily to adjust input shape for scaling"
   ]
  },
  {
   "cell_type": "code",
   "execution_count": 117,
   "metadata": {
    "id": "SmkmR89H6jcd"
   },
   "outputs": [],
   "source": [
    "sc = StandardScaler()\n",
    "XX_train = sc.fit_transform(xx_train)\n",
    "XX_test = sc.transform(xx_test)"
   ]
  },
  {
   "cell_type": "markdown",
   "metadata": {
    "id": "ReA2MRgG7fYu"
   },
   "source": [
    "### Kernel SVM"
   ]
  },
  {
   "cell_type": "code",
   "execution_count": 118,
   "metadata": {
    "colab": {
     "base_uri": "https://localhost:8080/"
    },
    "id": "qsQDYlDV7dwY",
    "outputId": "828a2620-0aee-499e-aac7-0ebf199b63cb"
   },
   "outputs": [
    {
     "data": {
      "text/plain": [
       "SVC(random_state=0)"
      ]
     },
     "execution_count": 118,
     "metadata": {},
     "output_type": "execute_result"
    }
   ],
   "source": [
    "from sklearn.svm import SVC\n",
    "classifier = SVC(kernel = 'rbf', random_state = 0)\n",
    "classifier.fit(XX_train, yy_train)"
   ]
  },
  {
   "cell_type": "code",
   "execution_count": 119,
   "metadata": {
    "colab": {
     "base_uri": "https://localhost:8080/"
    },
    "id": "Z7XI8ObB7dzc",
    "outputId": "d0c5bf5c-b226-4a3b-d5a7-0a633dfc3b0e"
   },
   "outputs": [
    {
     "data": {
      "text/plain": [
       "array([0, 0, 0, 0, 0, 0, 0, 0, 0, 0, 0, 0, 0, 0, 0, 0, 1, 0, 0, 0, 0, 0,\n",
       "       0, 0, 0, 1, 0, 1, 0, 0, 0, 1, 0, 0, 0, 0, 0, 0, 0, 0, 0, 0, 0, 0,\n",
       "       0, 0, 0, 1, 0, 0, 0, 0, 0, 0, 0, 0, 0, 0, 0, 0, 0, 0, 0, 0, 1, 0,\n",
       "       0, 0, 0, 0, 0, 0, 0, 0, 0, 0, 0, 0, 0, 0, 0, 0, 0, 0, 0, 1, 0, 0,\n",
       "       0, 0, 0, 1, 1, 0, 0, 0, 0, 1, 0, 0, 0, 0, 0, 0, 0, 0, 0, 0, 0, 0,\n",
       "       0, 0, 0, 0, 0, 0, 0, 0, 0, 0, 0, 0, 0, 0, 0, 0, 1, 0, 0, 0, 0, 0,\n",
       "       0, 0, 1, 0, 0, 0, 0, 0, 1, 0, 0, 0, 1, 0, 0, 0, 0, 1, 0, 0, 0, 0,\n",
       "       1, 1, 0, 0, 0, 0, 0, 0, 0, 1, 0, 0], dtype=int64)"
      ]
     },
     "execution_count": 119,
     "metadata": {},
     "output_type": "execute_result"
    }
   ],
   "source": [
    "yy_pred = classifier.predict(XX_test)\n",
    "yy_pred"
   ]
  },
  {
   "cell_type": "code",
   "execution_count": 120,
   "metadata": {
    "colab": {
     "base_uri": "https://localhost:8080/"
    },
    "id": "iUGHRSSL8B9K",
    "outputId": "f2868ed3-249a-4961-89c9-9574443b6bef"
   },
   "outputs": [
    {
     "name": "stdout",
     "output_type": "stream",
     "text": [
      "[[147   0]\n",
      " [  1  18]]\n"
     ]
    },
    {
     "data": {
      "text/plain": [
       "0.9939759036144579"
      ]
     },
     "execution_count": 120,
     "metadata": {},
     "output_type": "execute_result"
    }
   ],
   "source": [
    "from sklearn.metrics import confusion_matrix, accuracy_score\n",
    "cm = confusion_matrix(yy_test, yy_pred)\n",
    "print(cm)\n",
    "accuracy_score(yy_test, yy_pred)"
   ]
  },
  {
   "cell_type": "code",
   "execution_count": 123,
   "metadata": {},
   "outputs": [
    {
     "name": "stdout",
     "output_type": "stream",
     "text": [
      "Model: \"sequential_6\"\n",
      "_________________________________________________________________\n",
      " Layer (type)                Output Shape              Param #   \n",
      "=================================================================\n",
      " dense_16 (Dense)            (None, 1000)              7000      \n",
      "                                                                 \n",
      " dropout_10 (Dropout)        (None, 1000)              0         \n",
      "                                                                 \n",
      " dense_17 (Dense)            (None, 1)                 1001      \n",
      "                                                                 \n",
      "=================================================================\n",
      "Total params: 8,001\n",
      "Trainable params: 8,001\n",
      "Non-trainable params: 0\n",
      "_________________________________________________________________\n",
      "Epoch 1/20\n",
      "46/46 [==============================] - 1s 7ms/step - loss: 0.4406 - accuracy: 0.8822 - val_loss: 0.2525 - val_accuracy: 0.9699\n",
      "Epoch 2/20\n",
      "46/46 [==============================] - 0s 4ms/step - loss: 0.2397 - accuracy: 0.9401 - val_loss: 0.1474 - val_accuracy: 0.9940\n",
      "Epoch 3/20\n",
      "46/46 [==============================] - 0s 4ms/step - loss: 0.1756 - accuracy: 0.9532 - val_loss: 0.1117 - val_accuracy: 0.9940\n",
      "Epoch 4/20\n",
      "46/46 [==============================] - 0s 4ms/step - loss: 0.1499 - accuracy: 0.9573 - val_loss: 0.1060 - val_accuracy: 0.9940\n",
      "Epoch 5/20\n",
      "46/46 [==============================] - 0s 4ms/step - loss: 0.1311 - accuracy: 0.9635 - val_loss: 0.1175 - val_accuracy: 0.9940\n",
      "Epoch 6/20\n",
      "46/46 [==============================] - ETA: 0s - loss: 0.1206 - accuracy: 0.96 - 0s 5ms/step - loss: 0.1220 - accuracy: 0.9635 - val_loss: 0.0822 - val_accuracy: 0.9940\n",
      "Epoch 7/20\n",
      "46/46 [==============================] - 0s 4ms/step - loss: 0.1135 - accuracy: 0.9669 - val_loss: 0.0836 - val_accuracy: 0.9940\n",
      "Epoch 8/20\n",
      "46/46 [==============================] - 0s 4ms/step - loss: 0.1048 - accuracy: 0.9669 - val_loss: 0.0756 - val_accuracy: 0.9940\n",
      "Epoch 9/20\n",
      "46/46 [==============================] - 0s 4ms/step - loss: 0.0970 - accuracy: 0.9690 - val_loss: 0.0811 - val_accuracy: 0.9940\n",
      "Epoch 10/20\n",
      "46/46 [==============================] - 0s 4ms/step - loss: 0.0912 - accuracy: 0.9711 - val_loss: 0.0709 - val_accuracy: 0.9940\n",
      "Epoch 11/20\n",
      "46/46 [==============================] - 0s 4ms/step - loss: 0.0843 - accuracy: 0.9725 - val_loss: 0.0553 - val_accuracy: 0.9940\n",
      "Epoch 12/20\n",
      "46/46 [==============================] - 0s 4ms/step - loss: 0.0792 - accuracy: 0.9738 - val_loss: 0.0784 - val_accuracy: 0.9819\n",
      "Epoch 13/20\n",
      "46/46 [==============================] - 0s 3ms/step - loss: 0.0752 - accuracy: 0.9793 - val_loss: 0.0982 - val_accuracy: 0.9759\n",
      "Epoch 14/20\n",
      "46/46 [==============================] - 0s 4ms/step - loss: 0.0723 - accuracy: 0.9759 - val_loss: 0.0521 - val_accuracy: 0.9940\n",
      "Epoch 15/20\n",
      "46/46 [==============================] - 0s 4ms/step - loss: 0.0673 - accuracy: 0.9793 - val_loss: 0.0516 - val_accuracy: 0.9940\n",
      "Epoch 16/20\n",
      "46/46 [==============================] - 0s 4ms/step - loss: 0.0630 - accuracy: 0.9842 - val_loss: 0.0405 - val_accuracy: 0.9940\n",
      "Epoch 17/20\n",
      "46/46 [==============================] - 0s 5ms/step - loss: 0.0615 - accuracy: 0.9848 - val_loss: 0.0493 - val_accuracy: 1.0000\n",
      "Epoch 18/20\n",
      "46/46 [==============================] - 0s 5ms/step - loss: 0.0607 - accuracy: 0.9855 - val_loss: 0.0736 - val_accuracy: 0.9819\n",
      "Epoch 19/20\n",
      "46/46 [==============================] - 0s 4ms/step - loss: 0.0578 - accuracy: 0.9862 - val_loss: 0.0375 - val_accuracy: 1.0000\n",
      "Epoch 20/20\n",
      "46/46 [==============================] - 0s 4ms/step - loss: 0.0567 - accuracy: 0.9855 - val_loss: 0.0434 - val_accuracy: 1.0000\n",
      "score\n",
      "Test loss: 0.04335123673081398\n",
      "Test accuracy: 1.0\n"
     ]
    }
   ],
   "source": [
    "model_5 = Sequential() \n",
    "model_5.add(Dense(units=1000, activation='relu', input_shape=(6,)))  #Adding the input layer\n",
    "model_5.add(Dropout(0.2))\n",
    "model_5.add(Dense(1, activation='sigmoid')) # Adding the output layer\n",
    "\n",
    "model_5.summary()\n",
    "\n",
    "model_5.compile(loss='binary_crossentropy', \n",
    "              optimizer='adam', \n",
    "              metrics=['accuracy'])\n",
    "\n",
    "batch_size = 32\n",
    "epochs = 20\n",
    "\n",
    "history = model_5.fit(XX_train, yy_train, \n",
    "                    batch_size=batch_size, \n",
    "                    epochs=epochs, \n",
    "                    verbose=1, \n",
    "                    validation_data=(XX_test, yy_test))\n",
    "score = model_5.evaluate(XX_test, yy_test, verbose=0)\n",
    "\n",
    "print(\"score\")\n",
    "print('Test loss:', score[0]) \n",
    "print('Test accuracy:', score[1])"
   ]
  },
  {
   "cell_type": "markdown",
   "metadata": {
    "id": "rEfGj-qf8wf6"
   },
   "source": [
    "HeatMap"
   ]
  },
  {
   "cell_type": "code",
   "execution_count": 114,
   "metadata": {
    "id": "uOjXvnp48vIq"
   },
   "outputs": [],
   "source": [
    "new_i_dataset['threshold_reached_2'] = yy_train"
   ]
  },
  {
   "cell_type": "code",
   "execution_count": 115,
   "metadata": {
    "colab": {
     "base_uri": "https://localhost:8080/",
     "height": 836
    },
    "id": "9pdiH4TZ5_A-",
    "outputId": "9a97f7cc-05ba-44a1-f363-e3598b7a113b"
   },
   "outputs": [
    {
     "name": "stdout",
     "output_type": "stream",
     "text": [
      "0                                                   Alexandrium spp. \\ncells L-1\\n(PSP)  ...  threshold_reached_2\n",
      "0                                                                                        ...                     \n",
      "Alexandrium spp. \\ncells L-1\\n(PSP)                                            1.000000  ...             0.374220\n",
      "Dinophysiaceae \\ncells L-1\\n(DSP)                                             -0.033217  ...             0.387012\n",
      "Prorocentrum lima \\ncells L-1\\n(DSP)                                          -0.029339  ...             0.078898\n",
      "Pseudo-nitzschia spp. \\ncells L-1\\n(ASP)                                      -0.016116  ...             0.203380\n",
      "Ligulodinium polyedrum \\ncells L-1\\n(Yessotoxin)                              -0.015490  ...             0.080321\n",
      "Protoceratium reticulatum \\ncells L-1\\n(Yessoto...                            -0.011627  ...             0.102384\n",
      "threshold_reached_2                                                            0.374220  ...             1.000000\n",
      "\n",
      "[7 rows x 7 columns]\n"
     ]
    },
    {
     "data": {
      "image/png": "[encoded data removed]",
      "text/plain": [
       "<Figure size 864x576 with 2 Axes>"
      ]
     },
     "metadata": {},
     "output_type": "display_data"
    }
   ],
   "source": [
    "# Increased the size of the heatmap to avoid overlapping of labels\n",
    "sns.set(rc = {'figure.figsize':(12,8)})\n",
    "corrMatrix = new_i_dataset.corr()\n",
    "print (corrMatrix) \n",
    "ax = sns.heatmap(corrMatrix)"
   ]
  },
  {
   "cell_type": "code",
   "execution_count": null,
   "metadata": {
    "id": "CxJrxprTG99l"
   },
   "outputs": [],
   "source": []
  }
 ],
 "metadata": {
  "colab": {
   "collapsed_sections": [],
   "name": "Real Component_1.ipynb",
   "provenance": []
  },
  "kernelspec": {
   "display_name": "Python 3 (ipykernel)",
   "language": "python",
   "name": "python3"
  },
  "language_info": {
   "codemirror_mode": {
    "name": "ipython",
    "version": 3
   },
   "file_extension": ".py",
   "mimetype": "text/x-python",
   "name": "python",
   "nbconvert_exporter": "python",
   "pygments_lexer": "ipython3",
   "version": "3.9.7"
  }
 },
 "nbformat": 4,
 "nbformat_minor": 1
}
